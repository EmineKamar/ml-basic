{
 "cells": [
  {
   "cell_type": "code",
   "execution_count": 1,
   "id": "2efbb710",
   "metadata": {},
   "outputs": [],
   "source": [
    "import pandas as pd\n",
    "import numpy as np\n",
    "import matplotlib.pyplot as plt\n",
    "import tensorflow as tf\n",
    "import seaborn as sbn"
   ]
  },
  {
   "cell_type": "code",
   "execution_count": 2,
   "id": "39a671fc",
   "metadata": {},
   "outputs": [],
   "source": [
    "data = pd.read_excel(\"merc.xlsx\")"
   ]
  },
  {
   "cell_type": "code",
   "execution_count": 3,
   "id": "58357218",
   "metadata": {},
   "outputs": [
    {
     "data": {
      "text/html": [
       "<div>\n",
       "<style scoped>\n",
       "    .dataframe tbody tr th:only-of-type {\n",
       "        vertical-align: middle;\n",
       "    }\n",
       "\n",
       "    .dataframe tbody tr th {\n",
       "        vertical-align: top;\n",
       "    }\n",
       "\n",
       "    .dataframe thead th {\n",
       "        text-align: right;\n",
       "    }\n",
       "</style>\n",
       "<table border=\"1\" class=\"dataframe\">\n",
       "  <thead>\n",
       "    <tr style=\"text-align: right;\">\n",
       "      <th></th>\n",
       "      <th>year</th>\n",
       "      <th>price</th>\n",
       "      <th>transmission</th>\n",
       "      <th>mileage</th>\n",
       "      <th>tax</th>\n",
       "      <th>mpg</th>\n",
       "      <th>engineSize</th>\n",
       "    </tr>\n",
       "  </thead>\n",
       "  <tbody>\n",
       "    <tr>\n",
       "      <th>0</th>\n",
       "      <td>2005</td>\n",
       "      <td>5200</td>\n",
       "      <td>Automatic</td>\n",
       "      <td>63000</td>\n",
       "      <td>325</td>\n",
       "      <td>32.1</td>\n",
       "      <td>1.8</td>\n",
       "    </tr>\n",
       "    <tr>\n",
       "      <th>1</th>\n",
       "      <td>2017</td>\n",
       "      <td>34948</td>\n",
       "      <td>Automatic</td>\n",
       "      <td>27000</td>\n",
       "      <td>20</td>\n",
       "      <td>61.4</td>\n",
       "      <td>2.1</td>\n",
       "    </tr>\n",
       "    <tr>\n",
       "      <th>2</th>\n",
       "      <td>2016</td>\n",
       "      <td>49948</td>\n",
       "      <td>Automatic</td>\n",
       "      <td>6200</td>\n",
       "      <td>555</td>\n",
       "      <td>28.0</td>\n",
       "      <td>5.5</td>\n",
       "    </tr>\n",
       "    <tr>\n",
       "      <th>3</th>\n",
       "      <td>2016</td>\n",
       "      <td>61948</td>\n",
       "      <td>Automatic</td>\n",
       "      <td>16000</td>\n",
       "      <td>325</td>\n",
       "      <td>30.4</td>\n",
       "      <td>4.0</td>\n",
       "    </tr>\n",
       "    <tr>\n",
       "      <th>4</th>\n",
       "      <td>2016</td>\n",
       "      <td>73948</td>\n",
       "      <td>Automatic</td>\n",
       "      <td>4000</td>\n",
       "      <td>325</td>\n",
       "      <td>30.1</td>\n",
       "      <td>4.0</td>\n",
       "    </tr>\n",
       "  </tbody>\n",
       "</table>\n",
       "</div>"
      ],
      "text/plain": [
       "   year  price transmission  mileage  tax   mpg  engineSize\n",
       "0  2005   5200    Automatic    63000  325  32.1         1.8\n",
       "1  2017  34948    Automatic    27000   20  61.4         2.1\n",
       "2  2016  49948    Automatic     6200  555  28.0         5.5\n",
       "3  2016  61948    Automatic    16000  325  30.4         4.0\n",
       "4  2016  73948    Automatic     4000  325  30.1         4.0"
      ]
     },
     "execution_count": 3,
     "metadata": {},
     "output_type": "execute_result"
    }
   ],
   "source": [
    "data.head()"
   ]
  },
  {
   "cell_type": "code",
   "execution_count": 4,
   "id": "f8352e0c",
   "metadata": {},
   "outputs": [
    {
     "data": {
      "text/plain": [
       "year            0\n",
       "price           0\n",
       "transmission    0\n",
       "mileage         0\n",
       "tax             0\n",
       "mpg             0\n",
       "engineSize      0\n",
       "dtype: int64"
      ]
     },
     "execution_count": 4,
     "metadata": {},
     "output_type": "execute_result"
    }
   ],
   "source": [
    "data.isnull().sum()"
   ]
  },
  {
   "cell_type": "code",
   "execution_count": 5,
   "id": "8977d25f",
   "metadata": {},
   "outputs": [
    {
     "name": "stderr",
     "output_type": "stream",
     "text": [
      "C:\\Users\\kamar\\anaconda3\\lib\\site-packages\\seaborn\\distributions.py:2619: FutureWarning: `distplot` is a deprecated function and will be removed in a future version. Please adapt your code to use either `displot` (a figure-level function with similar flexibility) or `histplot` (an axes-level function for histograms).\n",
      "  warnings.warn(msg, FutureWarning)\n"
     ]
    },
    {
     "data": {
      "text/plain": [
       "<AxesSubplot:xlabel='price', ylabel='Density'>"
      ]
     },
     "execution_count": 5,
     "metadata": {},
     "output_type": "execute_result"
    },
    {
     "data": {
      "image/png": "[encoded data removed]",
      "text/plain": [
       "<Figure size 432x288 with 1 Axes>"
      ]
     },
     "metadata": {
      "needs_background": "light"
     },
     "output_type": "display_data"
    }
   ],
   "source": [
    "sbn.distplot(data[\"price\"])"
   ]
  },
  {
   "cell_type": "code",
   "execution_count": 6,
   "id": "c34d77d4",
   "metadata": {},
   "outputs": [
    {
     "name": "stderr",
     "output_type": "stream",
     "text": [
      "C:\\Users\\kamar\\anaconda3\\lib\\site-packages\\seaborn\\_decorators.py:36: FutureWarning: Pass the following variable as a keyword arg: x. From version 0.12, the only valid positional argument will be `data`, and passing other arguments without an explicit keyword will result in an error or misinterpretation.\n",
      "  warnings.warn(\n"
     ]
    },
    {
     "data": {
      "text/plain": [
       "<AxesSubplot:xlabel='year', ylabel='count'>"
      ]
     },
     "execution_count": 6,
     "metadata": {},
     "output_type": "execute_result"
    },
    {
     "data": {
      "image/png": "[encoded data removed]",
      "text/plain": [
       "<Figure size 432x288 with 1 Axes>"
      ]
     },
     "metadata": {
      "needs_background": "light"
     },
     "output_type": "display_data"
    }
   ],
   "source": [
    "sbn.countplot(data[\"year\"])"
   ]
  },
  {
   "cell_type": "code",
   "execution_count": 7,
   "id": "3eb9862f",
   "metadata": {},
   "outputs": [
    {
     "data": {
      "text/html": [
       "<div>\n",
       "<style scoped>\n",
       "    .dataframe tbody tr th:only-of-type {\n",
       "        vertical-align: middle;\n",
       "    }\n",
       "\n",
       "    .dataframe tbody tr th {\n",
       "        vertical-align: top;\n",
       "    }\n",
       "\n",
       "    .dataframe thead th {\n",
       "        text-align: right;\n",
       "    }\n",
       "</style>\n",
       "<table border=\"1\" class=\"dataframe\">\n",
       "  <thead>\n",
       "    <tr style=\"text-align: right;\">\n",
       "      <th></th>\n",
       "      <th>year</th>\n",
       "      <th>price</th>\n",
       "      <th>mileage</th>\n",
       "      <th>tax</th>\n",
       "      <th>mpg</th>\n",
       "      <th>engineSize</th>\n",
       "    </tr>\n",
       "  </thead>\n",
       "  <tbody>\n",
       "    <tr>\n",
       "      <th>year</th>\n",
       "      <td>1.000000</td>\n",
       "      <td>0.520712</td>\n",
       "      <td>-0.738027</td>\n",
       "      <td>0.012480</td>\n",
       "      <td>-0.094626</td>\n",
       "      <td>-0.142147</td>\n",
       "    </tr>\n",
       "    <tr>\n",
       "      <th>price</th>\n",
       "      <td>0.520712</td>\n",
       "      <td>1.000000</td>\n",
       "      <td>-0.537214</td>\n",
       "      <td>0.268717</td>\n",
       "      <td>-0.438445</td>\n",
       "      <td>0.516126</td>\n",
       "    </tr>\n",
       "    <tr>\n",
       "      <th>mileage</th>\n",
       "      <td>-0.738027</td>\n",
       "      <td>-0.537214</td>\n",
       "      <td>1.000000</td>\n",
       "      <td>-0.160223</td>\n",
       "      <td>0.202850</td>\n",
       "      <td>0.063652</td>\n",
       "    </tr>\n",
       "    <tr>\n",
       "      <th>tax</th>\n",
       "      <td>0.012480</td>\n",
       "      <td>0.268717</td>\n",
       "      <td>-0.160223</td>\n",
       "      <td>1.000000</td>\n",
       "      <td>-0.513742</td>\n",
       "      <td>0.338341</td>\n",
       "    </tr>\n",
       "    <tr>\n",
       "      <th>mpg</th>\n",
       "      <td>-0.094626</td>\n",
       "      <td>-0.438445</td>\n",
       "      <td>0.202850</td>\n",
       "      <td>-0.513742</td>\n",
       "      <td>1.000000</td>\n",
       "      <td>-0.339862</td>\n",
       "    </tr>\n",
       "    <tr>\n",
       "      <th>engineSize</th>\n",
       "      <td>-0.142147</td>\n",
       "      <td>0.516126</td>\n",
       "      <td>0.063652</td>\n",
       "      <td>0.338341</td>\n",
       "      <td>-0.339862</td>\n",
       "      <td>1.000000</td>\n",
       "    </tr>\n",
       "  </tbody>\n",
       "</table>\n",
       "</div>"
      ],
      "text/plain": [
       "                year     price   mileage       tax       mpg  engineSize\n",
       "year        1.000000  0.520712 -0.738027  0.012480 -0.094626   -0.142147\n",
       "price       0.520712  1.000000 -0.537214  0.268717 -0.438445    0.516126\n",
       "mileage    -0.738027 -0.537214  1.000000 -0.160223  0.202850    0.063652\n",
       "tax         0.012480  0.268717 -0.160223  1.000000 -0.513742    0.338341\n",
       "mpg        -0.094626 -0.438445  0.202850 -0.513742  1.000000   -0.339862\n",
       "engineSize -0.142147  0.516126  0.063652  0.338341 -0.339862    1.000000"
      ]
     },
     "execution_count": 7,
     "metadata": {},
     "output_type": "execute_result"
    }
   ],
   "source": [
    "data.corr()"
   ]
  },
  {
   "cell_type": "code",
   "execution_count": 8,
   "id": "5fabe6a3",
   "metadata": {},
   "outputs": [
    {
     "data": {
      "text/plain": [
       "mileage      -0.537214\n",
       "mpg          -0.438445\n",
       "tax           0.268717\n",
       "engineSize    0.516126\n",
       "year          0.520712\n",
       "price         1.000000\n",
       "Name: price, dtype: float64"
      ]
     },
     "execution_count": 8,
     "metadata": {},
     "output_type": "execute_result"
    }
   ],
   "source": [
    "data.corr()[\"price\"].sort_values()"
   ]
  },
  {
   "cell_type": "code",
   "execution_count": 9,
   "id": "4d4541a8",
   "metadata": {},
   "outputs": [
    {
     "data": {
      "text/plain": [
       "<AxesSubplot:xlabel='mileage', ylabel='price'>"
      ]
     },
     "execution_count": 9,
     "metadata": {},
     "output_type": "execute_result"
    },
    {
     "data": {
      "image/png": "[encoded data removed]",
      "text/plain": [
       "<Figure size 432x288 with 1 Axes>"
      ]
     },
     "metadata": {
      "needs_background": "light"
     },
     "output_type": "display_data"
    }
   ],
   "source": [
    "sbn.scatterplot(x=\"mileage\",y=\"price\",data=data)"
   ]
  },
  {
   "cell_type": "code",
   "execution_count": 10,
   "id": "32d9bb87",
   "metadata": {},
   "outputs": [
    {
     "data": {
      "text/html": [
       "<div>\n",
       "<style scoped>\n",
       "    .dataframe tbody tr th:only-of-type {\n",
       "        vertical-align: middle;\n",
       "    }\n",
       "\n",
       "    .dataframe tbody tr th {\n",
       "        vertical-align: top;\n",
       "    }\n",
       "\n",
       "    .dataframe thead th {\n",
       "        text-align: right;\n",
       "    }\n",
       "</style>\n",
       "<table border=\"1\" class=\"dataframe\">\n",
       "  <thead>\n",
       "    <tr style=\"text-align: right;\">\n",
       "      <th></th>\n",
       "      <th>year</th>\n",
       "      <th>price</th>\n",
       "      <th>transmission</th>\n",
       "      <th>mileage</th>\n",
       "      <th>tax</th>\n",
       "      <th>mpg</th>\n",
       "      <th>engineSize</th>\n",
       "    </tr>\n",
       "  </thead>\n",
       "  <tbody>\n",
       "    <tr>\n",
       "      <th>6199</th>\n",
       "      <td>2020</td>\n",
       "      <td>159999</td>\n",
       "      <td>Semi-Auto</td>\n",
       "      <td>1350</td>\n",
       "      <td>145</td>\n",
       "      <td>21.4</td>\n",
       "      <td>4.0</td>\n",
       "    </tr>\n",
       "    <tr>\n",
       "      <th>10044</th>\n",
       "      <td>2020</td>\n",
       "      <td>154998</td>\n",
       "      <td>Automatic</td>\n",
       "      <td>3000</td>\n",
       "      <td>150</td>\n",
       "      <td>21.4</td>\n",
       "      <td>4.0</td>\n",
       "    </tr>\n",
       "    <tr>\n",
       "      <th>5</th>\n",
       "      <td>2011</td>\n",
       "      <td>149948</td>\n",
       "      <td>Automatic</td>\n",
       "      <td>3000</td>\n",
       "      <td>570</td>\n",
       "      <td>21.4</td>\n",
       "      <td>6.2</td>\n",
       "    </tr>\n",
       "    <tr>\n",
       "      <th>8737</th>\n",
       "      <td>2019</td>\n",
       "      <td>140319</td>\n",
       "      <td>Semi-Auto</td>\n",
       "      <td>785</td>\n",
       "      <td>150</td>\n",
       "      <td>22.1</td>\n",
       "      <td>4.0</td>\n",
       "    </tr>\n",
       "    <tr>\n",
       "      <th>6386</th>\n",
       "      <td>2018</td>\n",
       "      <td>139995</td>\n",
       "      <td>Semi-Auto</td>\n",
       "      <td>13046</td>\n",
       "      <td>145</td>\n",
       "      <td>21.4</td>\n",
       "      <td>4.0</td>\n",
       "    </tr>\n",
       "    <tr>\n",
       "      <th>8</th>\n",
       "      <td>2019</td>\n",
       "      <td>139948</td>\n",
       "      <td>Automatic</td>\n",
       "      <td>12000</td>\n",
       "      <td>145</td>\n",
       "      <td>21.4</td>\n",
       "      <td>4.0</td>\n",
       "    </tr>\n",
       "    <tr>\n",
       "      <th>9133</th>\n",
       "      <td>2019</td>\n",
       "      <td>139559</td>\n",
       "      <td>Semi-Auto</td>\n",
       "      <td>1000</td>\n",
       "      <td>145</td>\n",
       "      <td>22.1</td>\n",
       "      <td>4.0</td>\n",
       "    </tr>\n",
       "    <tr>\n",
       "      <th>8821</th>\n",
       "      <td>2020</td>\n",
       "      <td>138439</td>\n",
       "      <td>Semi-Auto</td>\n",
       "      <td>1000</td>\n",
       "      <td>145</td>\n",
       "      <td>22.1</td>\n",
       "      <td>4.0</td>\n",
       "    </tr>\n",
       "    <tr>\n",
       "      <th>5902</th>\n",
       "      <td>2018</td>\n",
       "      <td>135771</td>\n",
       "      <td>Semi-Auto</td>\n",
       "      <td>19000</td>\n",
       "      <td>145</td>\n",
       "      <td>21.4</td>\n",
       "      <td>4.0</td>\n",
       "    </tr>\n",
       "    <tr>\n",
       "      <th>7864</th>\n",
       "      <td>2018</td>\n",
       "      <td>135124</td>\n",
       "      <td>Semi-Auto</td>\n",
       "      <td>18234</td>\n",
       "      <td>150</td>\n",
       "      <td>21.4</td>\n",
       "      <td>4.0</td>\n",
       "    </tr>\n",
       "    <tr>\n",
       "      <th>8673</th>\n",
       "      <td>2019</td>\n",
       "      <td>134219</td>\n",
       "      <td>Semi-Auto</td>\n",
       "      <td>1000</td>\n",
       "      <td>145</td>\n",
       "      <td>24.8</td>\n",
       "      <td>4.0</td>\n",
       "    </tr>\n",
       "    <tr>\n",
       "      <th>6210</th>\n",
       "      <td>2019</td>\n",
       "      <td>129990</td>\n",
       "      <td>Automatic</td>\n",
       "      <td>1000</td>\n",
       "      <td>145</td>\n",
       "      <td>24.8</td>\n",
       "      <td>4.0</td>\n",
       "    </tr>\n",
       "    <tr>\n",
       "      <th>4759</th>\n",
       "      <td>2019</td>\n",
       "      <td>126000</td>\n",
       "      <td>Automatic</td>\n",
       "      <td>250</td>\n",
       "      <td>145</td>\n",
       "      <td>24.6</td>\n",
       "      <td>4.0</td>\n",
       "    </tr>\n",
       "    <tr>\n",
       "      <th>2647</th>\n",
       "      <td>2019</td>\n",
       "      <td>125796</td>\n",
       "      <td>Automatic</td>\n",
       "      <td>637</td>\n",
       "      <td>145</td>\n",
       "      <td>24.8</td>\n",
       "      <td>4.0</td>\n",
       "    </tr>\n",
       "    <tr>\n",
       "      <th>6223</th>\n",
       "      <td>2019</td>\n",
       "      <td>124999</td>\n",
       "      <td>Automatic</td>\n",
       "      <td>1500</td>\n",
       "      <td>145</td>\n",
       "      <td>31.7</td>\n",
       "      <td>4.0</td>\n",
       "    </tr>\n",
       "    <tr>\n",
       "      <th>4094</th>\n",
       "      <td>2019</td>\n",
       "      <td>124366</td>\n",
       "      <td>Semi-Auto</td>\n",
       "      <td>880</td>\n",
       "      <td>145</td>\n",
       "      <td>24.8</td>\n",
       "      <td>4.0</td>\n",
       "    </tr>\n",
       "    <tr>\n",
       "      <th>2629</th>\n",
       "      <td>2019</td>\n",
       "      <td>123846</td>\n",
       "      <td>Semi-Auto</td>\n",
       "      <td>2951</td>\n",
       "      <td>145</td>\n",
       "      <td>22.1</td>\n",
       "      <td>4.0</td>\n",
       "    </tr>\n",
       "    <tr>\n",
       "      <th>7134</th>\n",
       "      <td>2019</td>\n",
       "      <td>115359</td>\n",
       "      <td>Semi-Auto</td>\n",
       "      <td>1000</td>\n",
       "      <td>145</td>\n",
       "      <td>30.1</td>\n",
       "      <td>4.0</td>\n",
       "    </tr>\n",
       "    <tr>\n",
       "      <th>9159</th>\n",
       "      <td>2019</td>\n",
       "      <td>114199</td>\n",
       "      <td>Semi-Auto</td>\n",
       "      <td>891</td>\n",
       "      <td>145</td>\n",
       "      <td>22.6</td>\n",
       "      <td>4.0</td>\n",
       "    </tr>\n",
       "    <tr>\n",
       "      <th>1980</th>\n",
       "      <td>2019</td>\n",
       "      <td>109995</td>\n",
       "      <td>Semi-Auto</td>\n",
       "      <td>4688</td>\n",
       "      <td>150</td>\n",
       "      <td>31.7</td>\n",
       "      <td>4.0</td>\n",
       "    </tr>\n",
       "  </tbody>\n",
       "</table>\n",
       "</div>"
      ],
      "text/plain": [
       "       year   price transmission  mileage  tax   mpg  engineSize\n",
       "6199   2020  159999    Semi-Auto     1350  145  21.4         4.0\n",
       "10044  2020  154998    Automatic     3000  150  21.4         4.0\n",
       "5      2011  149948    Automatic     3000  570  21.4         6.2\n",
       "8737   2019  140319    Semi-Auto      785  150  22.1         4.0\n",
       "6386   2018  139995    Semi-Auto    13046  145  21.4         4.0\n",
       "8      2019  139948    Automatic    12000  145  21.4         4.0\n",
       "9133   2019  139559    Semi-Auto     1000  145  22.1         4.0\n",
       "8821   2020  138439    Semi-Auto     1000  145  22.1         4.0\n",
       "5902   2018  135771    Semi-Auto    19000  145  21.4         4.0\n",
       "7864   2018  135124    Semi-Auto    18234  150  21.4         4.0\n",
       "8673   2019  134219    Semi-Auto     1000  145  24.8         4.0\n",
       "6210   2019  129990    Automatic     1000  145  24.8         4.0\n",
       "4759   2019  126000    Automatic      250  145  24.6         4.0\n",
       "2647   2019  125796    Automatic      637  145  24.8         4.0\n",
       "6223   2019  124999    Automatic     1500  145  31.7         4.0\n",
       "4094   2019  124366    Semi-Auto      880  145  24.8         4.0\n",
       "2629   2019  123846    Semi-Auto     2951  145  22.1         4.0\n",
       "7134   2019  115359    Semi-Auto     1000  145  30.1         4.0\n",
       "9159   2019  114199    Semi-Auto      891  145  22.6         4.0\n",
       "1980   2019  109995    Semi-Auto     4688  150  31.7         4.0"
      ]
     },
     "execution_count": 10,
     "metadata": {},
     "output_type": "execute_result"
    }
   ],
   "source": [
    "data.sort_values(\"price\",ascending = False).head(20)"
   ]
  },
  {
   "cell_type": "code",
   "execution_count": 11,
   "id": "51e21612",
   "metadata": {},
   "outputs": [],
   "source": [
    "#pahalılar veriyi biraz bozuyor."
   ]
  },
  {
   "cell_type": "code",
   "execution_count": 12,
   "id": "c894e23a",
   "metadata": {},
   "outputs": [
    {
     "data": {
      "text/plain": [
       "13119"
      ]
     },
     "execution_count": 12,
     "metadata": {},
     "output_type": "execute_result"
    }
   ],
   "source": [
    "len(data)"
   ]
  },
  {
   "cell_type": "code",
   "execution_count": 13,
   "id": "1c63625d",
   "metadata": {},
   "outputs": [
    {
     "data": {
      "text/plain": [
       "131.19"
      ]
     },
     "execution_count": 13,
     "metadata": {},
     "output_type": "execute_result"
    }
   ],
   "source": [
    "len(data)*0.01"
   ]
  },
  {
   "cell_type": "code",
   "execution_count": 14,
   "id": "b96ae1fc",
   "metadata": {},
   "outputs": [],
   "source": [
    "#131 tane en pahalı arabayı atacağız"
   ]
  },
  {
   "cell_type": "code",
   "execution_count": 15,
   "id": "aa645f3c",
   "metadata": {},
   "outputs": [],
   "source": [
    "yeni_Df = data.sort_values(\"price\", ascending = False).iloc[131:]"
   ]
  },
  {
   "cell_type": "code",
   "execution_count": 17,
   "id": "3e4e4fbe",
   "metadata": {},
   "outputs": [
    {
     "data": {
      "text/html": [
       "<div>\n",
       "<style scoped>\n",
       "    .dataframe tbody tr th:only-of-type {\n",
       "        vertical-align: middle;\n",
       "    }\n",
       "\n",
       "    .dataframe tbody tr th {\n",
       "        vertical-align: top;\n",
       "    }\n",
       "\n",
       "    .dataframe thead th {\n",
       "        text-align: right;\n",
       "    }\n",
       "</style>\n",
       "<table border=\"1\" class=\"dataframe\">\n",
       "  <thead>\n",
       "    <tr style=\"text-align: right;\">\n",
       "      <th></th>\n",
       "      <th>year</th>\n",
       "      <th>price</th>\n",
       "      <th>mileage</th>\n",
       "      <th>tax</th>\n",
       "      <th>mpg</th>\n",
       "      <th>engineSize</th>\n",
       "    </tr>\n",
       "  </thead>\n",
       "  <tbody>\n",
       "    <tr>\n",
       "      <th>count</th>\n",
       "      <td>12988.000000</td>\n",
       "      <td>12988.000000</td>\n",
       "      <td>12988.000000</td>\n",
       "      <td>12988.000000</td>\n",
       "      <td>12988.000000</td>\n",
       "      <td>12988.000000</td>\n",
       "    </tr>\n",
       "    <tr>\n",
       "      <th>mean</th>\n",
       "      <td>2017.281876</td>\n",
       "      <td>24074.926933</td>\n",
       "      <td>22132.741146</td>\n",
       "      <td>129.689714</td>\n",
       "      <td>55.437142</td>\n",
       "      <td>2.050901</td>\n",
       "    </tr>\n",
       "    <tr>\n",
       "      <th>std</th>\n",
       "      <td>2.228515</td>\n",
       "      <td>9866.224575</td>\n",
       "      <td>21196.776401</td>\n",
       "      <td>65.183076</td>\n",
       "      <td>15.025999</td>\n",
       "      <td>0.532596</td>\n",
       "    </tr>\n",
       "    <tr>\n",
       "      <th>min</th>\n",
       "      <td>1970.000000</td>\n",
       "      <td>650.000000</td>\n",
       "      <td>1.000000</td>\n",
       "      <td>0.000000</td>\n",
       "      <td>1.100000</td>\n",
       "      <td>0.000000</td>\n",
       "    </tr>\n",
       "    <tr>\n",
       "      <th>25%</th>\n",
       "      <td>2016.000000</td>\n",
       "      <td>17357.500000</td>\n",
       "      <td>6322.000000</td>\n",
       "      <td>125.000000</td>\n",
       "      <td>45.600000</td>\n",
       "      <td>1.675000</td>\n",
       "    </tr>\n",
       "    <tr>\n",
       "      <th>50%</th>\n",
       "      <td>2018.000000</td>\n",
       "      <td>22299.000000</td>\n",
       "      <td>15369.500000</td>\n",
       "      <td>145.000000</td>\n",
       "      <td>56.500000</td>\n",
       "      <td>2.000000</td>\n",
       "    </tr>\n",
       "    <tr>\n",
       "      <th>75%</th>\n",
       "      <td>2019.000000</td>\n",
       "      <td>28706.000000</td>\n",
       "      <td>31982.250000</td>\n",
       "      <td>145.000000</td>\n",
       "      <td>64.200000</td>\n",
       "      <td>2.100000</td>\n",
       "    </tr>\n",
       "    <tr>\n",
       "      <th>max</th>\n",
       "      <td>2020.000000</td>\n",
       "      <td>65990.000000</td>\n",
       "      <td>259000.000000</td>\n",
       "      <td>580.000000</td>\n",
       "      <td>217.300000</td>\n",
       "      <td>6.200000</td>\n",
       "    </tr>\n",
       "  </tbody>\n",
       "</table>\n",
       "</div>"
      ],
      "text/plain": [
       "               year         price        mileage           tax           mpg  \\\n",
       "count  12988.000000  12988.000000   12988.000000  12988.000000  12988.000000   \n",
       "mean    2017.281876  24074.926933   22132.741146    129.689714     55.437142   \n",
       "std        2.228515   9866.224575   21196.776401     65.183076     15.025999   \n",
       "min     1970.000000    650.000000       1.000000      0.000000      1.100000   \n",
       "25%     2016.000000  17357.500000    6322.000000    125.000000     45.600000   \n",
       "50%     2018.000000  22299.000000   15369.500000    145.000000     56.500000   \n",
       "75%     2019.000000  28706.000000   31982.250000    145.000000     64.200000   \n",
       "max     2020.000000  65990.000000  259000.000000    580.000000    217.300000   \n",
       "\n",
       "         engineSize  \n",
       "count  12988.000000  \n",
       "mean       2.050901  \n",
       "std        0.532596  \n",
       "min        0.000000  \n",
       "25%        1.675000  \n",
       "50%        2.000000  \n",
       "75%        2.100000  \n",
       "max        6.200000  "
      ]
     },
     "execution_count": 17,
     "metadata": {},
     "output_type": "execute_result"
    }
   ],
   "source": [
    "yeni_Df.describe()"
   ]
  },
  {
   "cell_type": "code",
   "execution_count": 18,
   "id": "e2e7a35d",
   "metadata": {
    "scrolled": true
   },
   "outputs": [
    {
     "name": "stderr",
     "output_type": "stream",
     "text": [
      "C:\\Users\\kamar\\anaconda3\\lib\\site-packages\\seaborn\\distributions.py:2619: FutureWarning: `distplot` is a deprecated function and will be removed in a future version. Please adapt your code to use either `displot` (a figure-level function with similar flexibility) or `histplot` (an axes-level function for histograms).\n",
      "  warnings.warn(msg, FutureWarning)\n"
     ]
    },
    {
     "data": {
      "text/plain": [
       "<AxesSubplot:xlabel='price', ylabel='Density'>"
      ]
     },
     "execution_count": 18,
     "metadata": {},
     "output_type": "execute_result"
    },
    {
     "data": {
      "image/png": "[encoded data removed]",
      "text/plain": [
       "<Figure size 504x360 with 1 Axes>"
      ]
     },
     "metadata": {
      "needs_background": "light"
     },
     "output_type": "display_data"
    }
   ],
   "source": [
    "plt.figure(figsize=(7,5))\n",
    "sbn.distplot(yeni_Df[\"price\"])"
   ]
  },
  {
   "cell_type": "code",
   "execution_count": 19,
   "id": "740ec4a5",
   "metadata": {},
   "outputs": [
    {
     "data": {
      "text/plain": [
       "year\n",
       "1970    24999.000000\n",
       "1997     9995.000000\n",
       "1998     8605.000000\n",
       "1999     5995.000000\n",
       "2000     5743.333333\n",
       "2001     4957.900000\n",
       "2002     5820.444444\n",
       "2003     4878.000000\n",
       "2004     4727.615385\n",
       "2005     4426.111111\n",
       "2006     4036.875000\n",
       "2007     5136.045455\n",
       "2008     6967.437500\n",
       "2009     6166.764706\n",
       "2010     8308.473684\n",
       "2011    12624.894737\n",
       "2012    10845.140351\n",
       "2013    11939.842466\n",
       "2014    14042.936864\n",
       "2015    16731.780020\n",
       "2016    19307.892948\n",
       "2017    21514.307854\n",
       "2018    25720.162918\n",
       "2019    31290.020865\n",
       "2020    35433.282337\n",
       "Name: price, dtype: float64"
      ]
     },
     "execution_count": 19,
     "metadata": {},
     "output_type": "execute_result"
    }
   ],
   "source": [
    "data.groupby(\"year\").mean()[\"price\"]\n",
    "#veriye baktığımızda 1970 gereksiz pahalı bu yüzden çıkarabiliriz"
   ]
  },
  {
   "cell_type": "code",
   "execution_count": 20,
   "id": "8851688a",
   "metadata": {},
   "outputs": [
    {
     "data": {
      "text/plain": [
       "year\n",
       "1997     9995.000000\n",
       "1998     8605.000000\n",
       "1999     5995.000000\n",
       "2000     5743.333333\n",
       "2001     4957.900000\n",
       "2002     5820.444444\n",
       "2003     4878.000000\n",
       "2004     4727.615385\n",
       "2005     4426.111111\n",
       "2006     4036.875000\n",
       "2007     5136.045455\n",
       "2008     6967.437500\n",
       "2009     6166.764706\n",
       "2010     8308.473684\n",
       "2011    12624.894737\n",
       "2012    10845.140351\n",
       "2013    11939.842466\n",
       "2014    14042.936864\n",
       "2015    16731.780020\n",
       "2016    19307.892948\n",
       "2017    21514.307854\n",
       "2018    25720.162918\n",
       "2019    31290.020865\n",
       "2020    35433.282337\n",
       "Name: price, dtype: float64"
      ]
     },
     "execution_count": 20,
     "metadata": {},
     "output_type": "execute_result"
    }
   ],
   "source": [
    "data[data.year != 1970].groupby(\"year\").mean()[\"price\"]"
   ]
  },
  {
   "cell_type": "code",
   "execution_count": 21,
   "id": "edcbdd90",
   "metadata": {},
   "outputs": [],
   "source": [
    "data = yeni_Df"
   ]
  },
  {
   "cell_type": "code",
   "execution_count": 22,
   "id": "60c7e2e3",
   "metadata": {},
   "outputs": [],
   "source": [
    "data = data[data.year != 1970]"
   ]
  },
  {
   "cell_type": "code",
   "execution_count": 23,
   "id": "6d0c3a94",
   "metadata": {},
   "outputs": [
    {
     "data": {
      "text/plain": [
       "year\n",
       "1997     9995.000000\n",
       "1998     8605.000000\n",
       "1999     5995.000000\n",
       "2000     5743.333333\n",
       "2001     4957.900000\n",
       "2002     5820.444444\n",
       "2003     4878.000000\n",
       "2004     4727.615385\n",
       "2005     4426.111111\n",
       "2006     4036.875000\n",
       "2007     5136.045455\n",
       "2008     6967.437500\n",
       "2009     6166.764706\n",
       "2010     8308.473684\n",
       "2011     8913.459459\n",
       "2012    10845.140351\n",
       "2013    11939.842466\n",
       "2014    14042.936864\n",
       "2015    16647.822222\n",
       "2016    19223.558943\n",
       "2017    21356.280421\n",
       "2018    24800.844506\n",
       "2019    30289.524832\n",
       "2020    34234.794872\n",
       "Name: price, dtype: float64"
      ]
     },
     "execution_count": 23,
     "metadata": {},
     "output_type": "execute_result"
    }
   ],
   "source": [
    "data.groupby(\"year\").mean()[\"price\"]"
   ]
  },
  {
   "cell_type": "code",
   "execution_count": 24,
   "id": "038245d1",
   "metadata": {},
   "outputs": [
    {
     "data": {
      "text/html": [
       "<div>\n",
       "<style scoped>\n",
       "    .dataframe tbody tr th:only-of-type {\n",
       "        vertical-align: middle;\n",
       "    }\n",
       "\n",
       "    .dataframe tbody tr th {\n",
       "        vertical-align: top;\n",
       "    }\n",
       "\n",
       "    .dataframe thead th {\n",
       "        text-align: right;\n",
       "    }\n",
       "</style>\n",
       "<table border=\"1\" class=\"dataframe\">\n",
       "  <thead>\n",
       "    <tr style=\"text-align: right;\">\n",
       "      <th></th>\n",
       "      <th>year</th>\n",
       "      <th>price</th>\n",
       "      <th>transmission</th>\n",
       "      <th>mileage</th>\n",
       "      <th>tax</th>\n",
       "      <th>mpg</th>\n",
       "      <th>engineSize</th>\n",
       "    </tr>\n",
       "  </thead>\n",
       "  <tbody>\n",
       "    <tr>\n",
       "      <th>6177</th>\n",
       "      <td>2019</td>\n",
       "      <td>65990</td>\n",
       "      <td>Semi-Auto</td>\n",
       "      <td>5076</td>\n",
       "      <td>150</td>\n",
       "      <td>30.4</td>\n",
       "      <td>3.0</td>\n",
       "    </tr>\n",
       "    <tr>\n",
       "      <th>5779</th>\n",
       "      <td>2020</td>\n",
       "      <td>65990</td>\n",
       "      <td>Semi-Auto</td>\n",
       "      <td>999</td>\n",
       "      <td>145</td>\n",
       "      <td>28.0</td>\n",
       "      <td>4.0</td>\n",
       "    </tr>\n",
       "    <tr>\n",
       "      <th>3191</th>\n",
       "      <td>2020</td>\n",
       "      <td>65980</td>\n",
       "      <td>Semi-Auto</td>\n",
       "      <td>3999</td>\n",
       "      <td>145</td>\n",
       "      <td>28.0</td>\n",
       "      <td>4.0</td>\n",
       "    </tr>\n",
       "    <tr>\n",
       "      <th>4727</th>\n",
       "      <td>2019</td>\n",
       "      <td>65000</td>\n",
       "      <td>Semi-Auto</td>\n",
       "      <td>3398</td>\n",
       "      <td>145</td>\n",
       "      <td>27.2</td>\n",
       "      <td>4.0</td>\n",
       "    </tr>\n",
       "    <tr>\n",
       "      <th>8814</th>\n",
       "      <td>2019</td>\n",
       "      <td>64999</td>\n",
       "      <td>Semi-Auto</td>\n",
       "      <td>119</td>\n",
       "      <td>145</td>\n",
       "      <td>40.9</td>\n",
       "      <td>3.0</td>\n",
       "    </tr>\n",
       "  </tbody>\n",
       "</table>\n",
       "</div>"
      ],
      "text/plain": [
       "      year  price transmission  mileage  tax   mpg  engineSize\n",
       "6177  2019  65990    Semi-Auto     5076  150  30.4         3.0\n",
       "5779  2020  65990    Semi-Auto      999  145  28.0         4.0\n",
       "3191  2020  65980    Semi-Auto     3999  145  28.0         4.0\n",
       "4727  2019  65000    Semi-Auto     3398  145  27.2         4.0\n",
       "8814  2019  64999    Semi-Auto      119  145  40.9         3.0"
      ]
     },
     "execution_count": 24,
     "metadata": {},
     "output_type": "execute_result"
    }
   ],
   "source": [
    "data.head()\n",
    "#regresyon yapacağımız sırada tüm veriler nümerik olmalı bu yüzden transmission sütununu çıkarmalıyız"
   ]
  },
  {
   "cell_type": "code",
   "execution_count": 27,
   "id": "816d7171",
   "metadata": {},
   "outputs": [],
   "source": [
    "data = data.drop(\"transmission\",axis=1)"
   ]
  },
  {
   "cell_type": "code",
   "execution_count": 28,
   "id": "f0de74ca",
   "metadata": {},
   "outputs": [],
   "source": [
    "y = data[\"price\"].values\n",
    "x = data.drop(\"price\", axis=1).values"
   ]
  },
  {
   "cell_type": "code",
   "execution_count": 29,
   "id": "0b5ef9fd",
   "metadata": {},
   "outputs": [],
   "source": [
    "from sklearn.model_selection import train_test_split\n"
   ]
  },
  {
   "cell_type": "code",
   "execution_count": 30,
   "id": "c076c44b",
   "metadata": {},
   "outputs": [],
   "source": [
    "x_train,x_test,y_train,y_test = train_test_split(x,y,test_size=0.3,random_state=10)"
   ]
  },
  {
   "cell_type": "code",
   "execution_count": 31,
   "id": "34ca5899",
   "metadata": {},
   "outputs": [
    {
     "data": {
      "text/plain": [
       "9090"
      ]
     },
     "execution_count": 31,
     "metadata": {},
     "output_type": "execute_result"
    }
   ],
   "source": [
    "len(x_train)"
   ]
  },
  {
   "cell_type": "code",
   "execution_count": 32,
   "id": "1e7d554e",
   "metadata": {},
   "outputs": [
    {
     "data": {
      "text/plain": [
       "3897"
      ]
     },
     "execution_count": 32,
     "metadata": {},
     "output_type": "execute_result"
    }
   ],
   "source": [
    "len(x_test)"
   ]
  },
  {
   "cell_type": "code",
   "execution_count": 33,
   "id": "b8a7ff29",
   "metadata": {},
   "outputs": [],
   "source": [
    "from sklearn.preprocessing import MinMaxScaler"
   ]
  },
  {
   "cell_type": "code",
   "execution_count": 34,
   "id": "8731c4af",
   "metadata": {},
   "outputs": [],
   "source": [
    "sc = MinMaxScaler()"
   ]
  },
  {
   "cell_type": "code",
   "execution_count": 36,
   "id": "a2127a72",
   "metadata": {},
   "outputs": [],
   "source": [
    "x_train = sc.fit_transform(x_train)"
   ]
  },
  {
   "cell_type": "code",
   "execution_count": 37,
   "id": "8c5c1aa6",
   "metadata": {},
   "outputs": [],
   "source": [
    "x_test = sc.transform(x_test)"
   ]
  },
  {
   "cell_type": "code",
   "execution_count": 38,
   "id": "37d251fc",
   "metadata": {},
   "outputs": [],
   "source": [
    "from tensorflow.keras.models import Sequential\n",
    "from tensorflow.keras.layers import Dense"
   ]
  },
  {
   "cell_type": "code",
   "execution_count": 40,
   "id": "66b76ed7",
   "metadata": {},
   "outputs": [
    {
     "data": {
      "text/plain": [
       "(9090, 5)"
      ]
     },
     "execution_count": 40,
     "metadata": {},
     "output_type": "execute_result"
    }
   ],
   "source": [
    "x_train.shape"
   ]
  },
  {
   "cell_type": "code",
   "execution_count": 42,
   "id": "f92844d6",
   "metadata": {},
   "outputs": [],
   "source": [
    "model = Sequential()\n",
    "\n",
    "model.add(Dense(12,activation=\"relu\"))\n",
    "model.add(Dense(12,activation=\"relu\"))\n",
    "model.add(Dense(12,activation=\"relu\"))\n",
    "model.add(Dense(12,activation=\"relu\"))\n",
    "\n",
    "model.add(Dense(1))\n",
    "\n",
    "model.compile(optimizer=\"adam\",loss=\"mse\")"
   ]
  },
  {
   "cell_type": "code",
   "execution_count": 43,
   "id": "b5ac3597",
   "metadata": {},
   "outputs": [
    {
     "name": "stdout",
     "output_type": "stream",
     "text": [
      "Epoch 1/300\n",
      "37/37 [==============================] - 3s 9ms/step - loss: 672136576.0000 - val_loss: 688080320.0000\n",
      "Epoch 2/300\n",
      "37/37 [==============================] - 0s 5ms/step - loss: 672055424.0000 - val_loss: 687915520.0000\n",
      "Epoch 3/300\n",
      "37/37 [==============================] - 0s 5ms/step - loss: 671734656.0000 - val_loss: 687336704.0000\n",
      "Epoch 4/300\n",
      "37/37 [==============================] - 0s 5ms/step - loss: 670722880.0000 - val_loss: 685645824.0000\n",
      "Epoch 5/300\n",
      "37/37 [==============================] - 0s 4ms/step - loss: 668022016.0000 - val_loss: 681441280.0000\n",
      "Epoch 6/300\n",
      "37/37 [==============================] - 0s 4ms/step - loss: 661753536.0000 - val_loss: 672161152.0000\n",
      "Epoch 7/300\n",
      "37/37 [==============================] - 0s 4ms/step - loss: 648772864.0000 - val_loss: 653998144.0000\n",
      "Epoch 8/300\n",
      "37/37 [==============================] - 0s 4ms/step - loss: 624707392.0000 - val_loss: 622074816.0000\n",
      "Epoch 9/300\n",
      "37/37 [==============================] - 0s 4ms/step - loss: 584662976.0000 - val_loss: 571147072.0000\n",
      "Epoch 10/300\n",
      "37/37 [==============================] - 0s 4ms/step - loss: 524181184.0000 - val_loss: 498007616.0000\n",
      "Epoch 11/300\n",
      "37/37 [==============================] - 0s 4ms/step - loss: 441932064.0000 - val_loss: 404051584.0000\n",
      "Epoch 12/300\n",
      "37/37 [==============================] - 0s 4ms/step - loss: 343258048.0000 - val_loss: 299338944.0000\n",
      "Epoch 13/300\n",
      "37/37 [==============================] - 0s 4ms/step - loss: 242889712.0000 - val_loss: 202999168.0000\n",
      "Epoch 14/300\n",
      "37/37 [==============================] - 0s 4ms/step - loss: 161499744.0000 - val_loss: 136059712.0000\n",
      "Epoch 15/300\n",
      "37/37 [==============================] - 0s 4ms/step - loss: 113954736.0000 - val_loss: 104036144.0000\n",
      "Epoch 16/300\n",
      "37/37 [==============================] - 0s 4ms/step - loss: 95560208.0000 - val_loss: 94302712.0000\n",
      "Epoch 17/300\n",
      "37/37 [==============================] - 0s 4ms/step - loss: 90795424.0000 - val_loss: 91852192.0000\n",
      "Epoch 18/300\n",
      "37/37 [==============================] - 0s 4ms/step - loss: 89518288.0000 - val_loss: 90830544.0000\n",
      "Epoch 19/300\n",
      "37/37 [==============================] - 0s 4ms/step - loss: 88795568.0000 - val_loss: 90139568.0000\n",
      "Epoch 20/300\n",
      "37/37 [==============================] - 0s 4ms/step - loss: 88160184.0000 - val_loss: 89487016.0000\n",
      "Epoch 21/300\n",
      "37/37 [==============================] - 0s 4ms/step - loss: 87557824.0000 - val_loss: 88891688.0000\n",
      "Epoch 22/300\n",
      "37/37 [==============================] - 0s 4ms/step - loss: 86973664.0000 - val_loss: 88332288.0000\n",
      "Epoch 23/300\n",
      "37/37 [==============================] - 0s 4ms/step - loss: 86406176.0000 - val_loss: 87794472.0000\n",
      "Epoch 24/300\n",
      "37/37 [==============================] - 0s 4ms/step - loss: 85857568.0000 - val_loss: 87220536.0000\n",
      "Epoch 25/300\n",
      "37/37 [==============================] - 0s 4ms/step - loss: 85321920.0000 - val_loss: 86669912.0000\n",
      "Epoch 26/300\n",
      "37/37 [==============================] - 0s 4ms/step - loss: 84790320.0000 - val_loss: 86175536.0000\n",
      "Epoch 27/300\n",
      "37/37 [==============================] - 0s 4ms/step - loss: 84293096.0000 - val_loss: 85679800.0000\n",
      "Epoch 28/300\n",
      "37/37 [==============================] - 0s 4ms/step - loss: 83759680.0000 - val_loss: 85206280.0000\n",
      "Epoch 29/300\n",
      "37/37 [==============================] - 0s 4ms/step - loss: 83251120.0000 - val_loss: 84649672.0000\n",
      "Epoch 30/300\n",
      "37/37 [==============================] - 0s 4ms/step - loss: 82744216.0000 - val_loss: 84150872.0000\n",
      "Epoch 31/300\n",
      "37/37 [==============================] - 0s 4ms/step - loss: 82249448.0000 - val_loss: 83651456.0000\n",
      "Epoch 32/300\n",
      "37/37 [==============================] - 0s 4ms/step - loss: 81763280.0000 - val_loss: 83181864.0000\n",
      "Epoch 33/300\n",
      "37/37 [==============================] - 0s 5ms/step - loss: 81263624.0000 - val_loss: 82638552.0000\n",
      "Epoch 34/300\n",
      "37/37 [==============================] - 0s 5ms/step - loss: 80766752.0000 - val_loss: 82188232.0000\n",
      "Epoch 35/300\n",
      "37/37 [==============================] - 0s 4ms/step - loss: 80270480.0000 - val_loss: 81707880.0000\n",
      "Epoch 36/300\n",
      "37/37 [==============================] - 0s 4ms/step - loss: 79789456.0000 - val_loss: 81200976.0000\n",
      "Epoch 37/300\n",
      "37/37 [==============================] - 0s 5ms/step - loss: 79284192.0000 - val_loss: 80762224.0000\n",
      "Epoch 38/300\n",
      "37/37 [==============================] - 0s 4ms/step - loss: 78798968.0000 - val_loss: 80239272.0000\n",
      "Epoch 39/300\n",
      "37/37 [==============================] - 0s 4ms/step - loss: 78304128.0000 - val_loss: 79751272.0000\n",
      "Epoch 40/300\n",
      "37/37 [==============================] - 0s 4ms/step - loss: 77822496.0000 - val_loss: 79241856.0000\n",
      "Epoch 41/300\n",
      "37/37 [==============================] - 0s 4ms/step - loss: 77333832.0000 - val_loss: 78838696.0000\n",
      "Epoch 42/300\n",
      "37/37 [==============================] - 0s 5ms/step - loss: 76847488.0000 - val_loss: 78296208.0000\n",
      "Epoch 43/300\n",
      "37/37 [==============================] - 0s 4ms/step - loss: 76352360.0000 - val_loss: 77814432.0000\n",
      "Epoch 44/300\n",
      "37/37 [==============================] - 0s 4ms/step - loss: 75866856.0000 - val_loss: 77333320.0000\n",
      "Epoch 45/300\n",
      "37/37 [==============================] - 0s 4ms/step - loss: 75388176.0000 - val_loss: 76870728.0000\n",
      "Epoch 46/300\n",
      "37/37 [==============================] - 0s 4ms/step - loss: 74877896.0000 - val_loss: 76336728.0000\n",
      "Epoch 47/300\n",
      "37/37 [==============================] - 0s 4ms/step - loss: 74389264.0000 - val_loss: 75882944.0000\n",
      "Epoch 48/300\n",
      "37/37 [==============================] - 0s 4ms/step - loss: 73888872.0000 - val_loss: 75378032.0000\n",
      "Epoch 49/300\n",
      "37/37 [==============================] - 0s 4ms/step - loss: 73388216.0000 - val_loss: 74874096.0000\n",
      "Epoch 50/300\n",
      "37/37 [==============================] - 0s 4ms/step - loss: 72898000.0000 - val_loss: 74371872.0000\n",
      "Epoch 51/300\n",
      "37/37 [==============================] - 0s 4ms/step - loss: 72396312.0000 - val_loss: 73880608.0000\n",
      "Epoch 52/300\n",
      "37/37 [==============================] - 0s 5ms/step - loss: 71883728.0000 - val_loss: 73359336.0000\n",
      "Epoch 53/300\n",
      "37/37 [==============================] - 0s 4ms/step - loss: 71366832.0000 - val_loss: 72892608.0000\n",
      "Epoch 54/300\n",
      "37/37 [==============================] - 0s 4ms/step - loss: 70858936.0000 - val_loss: 72356240.0000\n",
      "Epoch 55/300\n",
      "37/37 [==============================] - 0s 4ms/step - loss: 70339728.0000 - val_loss: 71852064.0000\n",
      "Epoch 56/300\n",
      "37/37 [==============================] - 0s 4ms/step - loss: 69823872.0000 - val_loss: 71306600.0000\n",
      "Epoch 57/300\n",
      "37/37 [==============================] - 0s 4ms/step - loss: 69295064.0000 - val_loss: 70801712.0000\n",
      "Epoch 58/300\n",
      "37/37 [==============================] - 0s 4ms/step - loss: 68763504.0000 - val_loss: 70285192.0000\n",
      "Epoch 59/300\n",
      "37/37 [==============================] - 0s 4ms/step - loss: 68231936.0000 - val_loss: 69743960.0000\n",
      "Epoch 60/300\n",
      "37/37 [==============================] - 0s 4ms/step - loss: 67697328.0000 - val_loss: 69227040.0000\n",
      "Epoch 61/300\n",
      "37/37 [==============================] - 0s 4ms/step - loss: 67143800.0000 - val_loss: 68679568.0000\n",
      "Epoch 62/300\n",
      "37/37 [==============================] - 0s 4ms/step - loss: 66597696.0000 - val_loss: 68124528.0000\n",
      "Epoch 63/300\n",
      "37/37 [==============================] - 0s 4ms/step - loss: 66085444.0000 - val_loss: 67571432.0000\n",
      "Epoch 64/300\n",
      "37/37 [==============================] - 0s 4ms/step - loss: 65474156.0000 - val_loss: 67009008.0000\n",
      "Epoch 65/300\n",
      "37/37 [==============================] - 0s 4ms/step - loss: 64904944.0000 - val_loss: 66463764.0000\n",
      "Epoch 66/300\n",
      "37/37 [==============================] - 0s 4ms/step - loss: 64332948.0000 - val_loss: 65852452.0000\n",
      "Epoch 67/300\n",
      "37/37 [==============================] - 0s 4ms/step - loss: 63746968.0000 - val_loss: 65301680.0000\n",
      "Epoch 68/300\n",
      "37/37 [==============================] - 0s 4ms/step - loss: 63153944.0000 - val_loss: 64670432.0000\n",
      "Epoch 69/300\n",
      "37/37 [==============================] - 0s 4ms/step - loss: 62566268.0000 - val_loss: 64069996.0000\n",
      "Epoch 70/300\n",
      "37/37 [==============================] - 0s 4ms/step - loss: 61936464.0000 - val_loss: 63500612.0000\n",
      "Epoch 71/300\n",
      "37/37 [==============================] - 0s 4ms/step - loss: 61358280.0000 - val_loss: 62835816.0000\n",
      "Epoch 72/300\n"
     ]
    },
    {
     "name": "stdout",
     "output_type": "stream",
     "text": [
      "37/37 [==============================] - 0s 4ms/step - loss: 60712932.0000 - val_loss: 62214136.0000\n",
      "Epoch 73/300\n",
      "37/37 [==============================] - 0s 5ms/step - loss: 60072224.0000 - val_loss: 61611712.0000\n",
      "Epoch 74/300\n",
      "37/37 [==============================] - 0s 4ms/step - loss: 59429248.0000 - val_loss: 60957796.0000\n",
      "Epoch 75/300\n",
      "37/37 [==============================] - 0s 4ms/step - loss: 58808268.0000 - val_loss: 60283880.0000\n",
      "Epoch 76/300\n",
      "37/37 [==============================] - 0s 4ms/step - loss: 58111624.0000 - val_loss: 59605716.0000\n",
      "Epoch 77/300\n",
      "37/37 [==============================] - 0s 4ms/step - loss: 57425264.0000 - val_loss: 58951280.0000\n",
      "Epoch 78/300\n",
      "37/37 [==============================] - 0s 4ms/step - loss: 56747664.0000 - val_loss: 58288332.0000\n",
      "Epoch 79/300\n",
      "37/37 [==============================] - 0s 4ms/step - loss: 56037472.0000 - val_loss: 57532476.0000\n",
      "Epoch 80/300\n",
      "37/37 [==============================] - 0s 4ms/step - loss: 55325824.0000 - val_loss: 56800852.0000\n",
      "Epoch 81/300\n",
      "37/37 [==============================] - 0s 4ms/step - loss: 54612820.0000 - val_loss: 56079528.0000\n",
      "Epoch 82/300\n",
      "37/37 [==============================] - 0s 4ms/step - loss: 53873840.0000 - val_loss: 55328040.0000\n",
      "Epoch 83/300\n",
      "37/37 [==============================] - 0s 4ms/step - loss: 53116624.0000 - val_loss: 54584204.0000\n",
      "Epoch 84/300\n",
      "37/37 [==============================] - 0s 4ms/step - loss: 52340548.0000 - val_loss: 53778580.0000\n",
      "Epoch 85/300\n",
      "37/37 [==============================] - 0s 4ms/step - loss: 51572576.0000 - val_loss: 53008340.0000\n",
      "Epoch 86/300\n",
      "37/37 [==============================] - 0s 4ms/step - loss: 50791300.0000 - val_loss: 52212876.0000\n",
      "Epoch 87/300\n",
      "37/37 [==============================] - 0s 4ms/step - loss: 50004972.0000 - val_loss: 51387680.0000\n",
      "Epoch 88/300\n",
      "37/37 [==============================] - 0s 5ms/step - loss: 49206692.0000 - val_loss: 50569844.0000\n",
      "Epoch 89/300\n",
      "37/37 [==============================] - 0s 4ms/step - loss: 48382372.0000 - val_loss: 49755372.0000\n",
      "Epoch 90/300\n",
      "37/37 [==============================] - 0s 4ms/step - loss: 47581740.0000 - val_loss: 48920624.0000\n",
      "Epoch 91/300\n",
      "37/37 [==============================] - 0s 4ms/step - loss: 46770172.0000 - val_loss: 48094684.0000\n",
      "Epoch 92/300\n",
      "37/37 [==============================] - 0s 4ms/step - loss: 45941592.0000 - val_loss: 47234248.0000\n",
      "Epoch 93/300\n",
      "37/37 [==============================] - 0s 4ms/step - loss: 45110744.0000 - val_loss: 46399756.0000\n",
      "Epoch 94/300\n",
      "37/37 [==============================] - 0s 5ms/step - loss: 44285740.0000 - val_loss: 45540852.0000\n",
      "Epoch 95/300\n",
      "37/37 [==============================] - 0s 5ms/step - loss: 43478940.0000 - val_loss: 44702788.0000\n",
      "Epoch 96/300\n",
      "37/37 [==============================] - 0s 4ms/step - loss: 42646872.0000 - val_loss: 43863020.0000\n",
      "Epoch 97/300\n",
      "37/37 [==============================] - 0s 5ms/step - loss: 41857368.0000 - val_loss: 43022468.0000\n",
      "Epoch 98/300\n",
      "37/37 [==============================] - 0s 4ms/step - loss: 41044512.0000 - val_loss: 42195524.0000\n",
      "Epoch 99/300\n",
      "37/37 [==============================] - 0s 5ms/step - loss: 40261488.0000 - val_loss: 41378224.0000\n",
      "Epoch 100/300\n",
      "37/37 [==============================] - 0s 4ms/step - loss: 39523104.0000 - val_loss: 40605568.0000\n",
      "Epoch 101/300\n",
      "37/37 [==============================] - 0s 5ms/step - loss: 38748736.0000 - val_loss: 39811664.0000\n",
      "Epoch 102/300\n",
      "37/37 [==============================] - 0s 4ms/step - loss: 38022136.0000 - val_loss: 39045072.0000\n",
      "Epoch 103/300\n",
      "37/37 [==============================] - 0s 5ms/step - loss: 37300292.0000 - val_loss: 38307424.0000\n",
      "Epoch 104/300\n",
      "37/37 [==============================] - 0s 5ms/step - loss: 36611040.0000 - val_loss: 37652588.0000\n",
      "Epoch 105/300\n",
      "37/37 [==============================] - 0s 5ms/step - loss: 35964660.0000 - val_loss: 36894948.0000\n",
      "Epoch 106/300\n",
      "37/37 [==============================] - 0s 4ms/step - loss: 35290684.0000 - val_loss: 36239864.0000\n",
      "Epoch 107/300\n",
      "37/37 [==============================] - 0s 4ms/step - loss: 34695112.0000 - val_loss: 35575972.0000\n",
      "Epoch 108/300\n",
      "37/37 [==============================] - 0s 4ms/step - loss: 34062760.0000 - val_loss: 34931620.0000\n",
      "Epoch 109/300\n",
      "37/37 [==============================] - 0s 5ms/step - loss: 33418796.0000 - val_loss: 34269556.0000\n",
      "Epoch 110/300\n",
      "37/37 [==============================] - 0s 5ms/step - loss: 32805156.0000 - val_loss: 33644384.0000\n",
      "Epoch 111/300\n",
      "37/37 [==============================] - 0s 5ms/step - loss: 32201024.0000 - val_loss: 33019042.0000\n",
      "Epoch 112/300\n",
      "37/37 [==============================] - 0s 6ms/step - loss: 31594928.0000 - val_loss: 32402238.0000\n",
      "Epoch 113/300\n",
      "37/37 [==============================] - 0s 7ms/step - loss: 31016906.0000 - val_loss: 31791348.0000\n",
      "Epoch 114/300\n",
      "37/37 [==============================] - 0s 5ms/step - loss: 30415528.0000 - val_loss: 31226726.0000\n",
      "Epoch 115/300\n",
      "37/37 [==============================] - 0s 5ms/step - loss: 29855940.0000 - val_loss: 30638848.0000\n",
      "Epoch 116/300\n",
      "37/37 [==============================] - 0s 5ms/step - loss: 29292378.0000 - val_loss: 30162362.0000\n",
      "Epoch 117/300\n",
      "37/37 [==============================] - 0s 4ms/step - loss: 28855480.0000 - val_loss: 29635906.0000\n",
      "Epoch 118/300\n",
      "37/37 [==============================] - 0s 4ms/step - loss: 28307780.0000 - val_loss: 29134516.0000\n",
      "Epoch 119/300\n",
      "37/37 [==============================] - 0s 4ms/step - loss: 27832240.0000 - val_loss: 28700844.0000\n",
      "Epoch 120/300\n",
      "37/37 [==============================] - 0s 4ms/step - loss: 27443654.0000 - val_loss: 28313352.0000\n",
      "Epoch 121/300\n",
      "37/37 [==============================] - 0s 4ms/step - loss: 27037850.0000 - val_loss: 27945598.0000\n",
      "Epoch 122/300\n",
      "37/37 [==============================] - 0s 4ms/step - loss: 26648214.0000 - val_loss: 27556806.0000\n",
      "Epoch 123/300\n",
      "37/37 [==============================] - 0s 5ms/step - loss: 26322818.0000 - val_loss: 27240412.0000\n",
      "Epoch 124/300\n",
      "37/37 [==============================] - 0s 5ms/step - loss: 26018784.0000 - val_loss: 26950968.0000\n",
      "Epoch 125/300\n",
      "37/37 [==============================] - 0s 4ms/step - loss: 25733092.0000 - val_loss: 26680656.0000\n",
      "Epoch 126/300\n",
      "37/37 [==============================] - 0s 5ms/step - loss: 25485978.0000 - val_loss: 26458684.0000\n",
      "Epoch 127/300\n",
      "37/37 [==============================] - 0s 5ms/step - loss: 25228306.0000 - val_loss: 26283948.0000\n",
      "Epoch 128/300\n",
      "37/37 [==============================] - 0s 5ms/step - loss: 25054200.0000 - val_loss: 26007608.0000\n",
      "Epoch 129/300\n",
      "37/37 [==============================] - 0s 5ms/step - loss: 24854890.0000 - val_loss: 25802384.0000\n",
      "Epoch 130/300\n",
      "37/37 [==============================] - 0s 5ms/step - loss: 24634274.0000 - val_loss: 25662752.0000\n",
      "Epoch 131/300\n",
      "37/37 [==============================] - 0s 4ms/step - loss: 24478970.0000 - val_loss: 25455006.0000\n",
      "Epoch 132/300\n",
      "37/37 [==============================] - 0s 5ms/step - loss: 24339116.0000 - val_loss: 25287390.0000\n",
      "Epoch 133/300\n",
      "37/37 [==============================] - 0s 5ms/step - loss: 24136206.0000 - val_loss: 25132614.0000\n",
      "Epoch 134/300\n",
      "37/37 [==============================] - 0s 5ms/step - loss: 23994126.0000 - val_loss: 24984500.0000\n",
      "Epoch 135/300\n",
      "37/37 [==============================] - 0s 5ms/step - loss: 23839910.0000 - val_loss: 24854288.0000\n",
      "Epoch 136/300\n",
      "37/37 [==============================] - 0s 5ms/step - loss: 23696252.0000 - val_loss: 24714910.0000\n",
      "Epoch 137/300\n",
      "37/37 [==============================] - 0s 4ms/step - loss: 23567930.0000 - val_loss: 24583282.0000\n",
      "Epoch 138/300\n",
      "37/37 [==============================] - 0s 4ms/step - loss: 23435648.0000 - val_loss: 24452820.0000\n",
      "Epoch 139/300\n",
      "37/37 [==============================] - 0s 4ms/step - loss: 23300426.0000 - val_loss: 24330460.0000\n",
      "Epoch 140/300\n",
      "37/37 [==============================] - 0s 4ms/step - loss: 23180586.0000 - val_loss: 24209744.0000\n",
      "Epoch 141/300\n",
      "37/37 [==============================] - 0s 4ms/step - loss: 23098622.0000 - val_loss: 24093210.0000\n",
      "Epoch 142/300\n",
      "37/37 [==============================] - 0s 4ms/step - loss: 22924738.0000 - val_loss: 23979310.0000\n",
      "Epoch 143/300\n"
     ]
    },
    {
     "name": "stdout",
     "output_type": "stream",
     "text": [
      "37/37 [==============================] - 0s 4ms/step - loss: 22811216.0000 - val_loss: 23874230.0000\n",
      "Epoch 144/300\n",
      "37/37 [==============================] - 0s 4ms/step - loss: 22688268.0000 - val_loss: 23773078.0000\n",
      "Epoch 145/300\n",
      "37/37 [==============================] - 0s 4ms/step - loss: 22565184.0000 - val_loss: 23642120.0000\n",
      "Epoch 146/300\n",
      "37/37 [==============================] - 0s 4ms/step - loss: 22455174.0000 - val_loss: 23545430.0000\n",
      "Epoch 147/300\n",
      "37/37 [==============================] - 0s 4ms/step - loss: 22370554.0000 - val_loss: 23443410.0000\n",
      "Epoch 148/300\n",
      "37/37 [==============================] - 0s 4ms/step - loss: 22261432.0000 - val_loss: 23387726.0000\n",
      "Epoch 149/300\n",
      "37/37 [==============================] - 0s 4ms/step - loss: 22149656.0000 - val_loss: 23270106.0000\n",
      "Epoch 150/300\n",
      "37/37 [==============================] - 0s 4ms/step - loss: 22038322.0000 - val_loss: 23249420.0000\n",
      "Epoch 151/300\n",
      "37/37 [==============================] - 0s 4ms/step - loss: 21996238.0000 - val_loss: 23115550.0000\n",
      "Epoch 152/300\n",
      "37/37 [==============================] - 0s 4ms/step - loss: 21892098.0000 - val_loss: 23052222.0000\n",
      "Epoch 153/300\n",
      "37/37 [==============================] - 0s 4ms/step - loss: 21832212.0000 - val_loss: 22970196.0000\n",
      "Epoch 154/300\n",
      "37/37 [==============================] - 0s 4ms/step - loss: 21746178.0000 - val_loss: 22896484.0000\n",
      "Epoch 155/300\n",
      "37/37 [==============================] - 0s 4ms/step - loss: 21692158.0000 - val_loss: 22841494.0000\n",
      "Epoch 156/300\n",
      "37/37 [==============================] - 0s 4ms/step - loss: 21609264.0000 - val_loss: 22830010.0000\n",
      "Epoch 157/300\n",
      "37/37 [==============================] - 0s 4ms/step - loss: 21551664.0000 - val_loss: 22731640.0000\n",
      "Epoch 158/300\n",
      "37/37 [==============================] - 0s 4ms/step - loss: 21499410.0000 - val_loss: 22687598.0000\n",
      "Epoch 159/300\n",
      "37/37 [==============================] - 0s 4ms/step - loss: 21418914.0000 - val_loss: 22631300.0000\n",
      "Epoch 160/300\n",
      "37/37 [==============================] - 0s 4ms/step - loss: 21380886.0000 - val_loss: 22586974.0000\n",
      "Epoch 161/300\n",
      "37/37 [==============================] - 0s 4ms/step - loss: 21324834.0000 - val_loss: 22539286.0000\n",
      "Epoch 162/300\n",
      "37/37 [==============================] - 0s 4ms/step - loss: 21279898.0000 - val_loss: 22534760.0000\n",
      "Epoch 163/300\n",
      "37/37 [==============================] - 0s 4ms/step - loss: 21235972.0000 - val_loss: 22453816.0000\n",
      "Epoch 164/300\n",
      "37/37 [==============================] - 0s 4ms/step - loss: 21194520.0000 - val_loss: 22420738.0000\n",
      "Epoch 165/300\n",
      "37/37 [==============================] - 0s 5ms/step - loss: 21150516.0000 - val_loss: 22417126.0000\n",
      "Epoch 166/300\n",
      "37/37 [==============================] - 0s 5ms/step - loss: 21132218.0000 - val_loss: 22386008.0000\n",
      "Epoch 167/300\n",
      "37/37 [==============================] - 0s 4ms/step - loss: 21084860.0000 - val_loss: 22337738.0000\n",
      "Epoch 168/300\n",
      "37/37 [==============================] - 0s 4ms/step - loss: 21086922.0000 - val_loss: 22295710.0000\n",
      "Epoch 169/300\n",
      "37/37 [==============================] - 0s 4ms/step - loss: 21006524.0000 - val_loss: 22252056.0000\n",
      "Epoch 170/300\n",
      "37/37 [==============================] - 0s 4ms/step - loss: 20993294.0000 - val_loss: 22219956.0000\n",
      "Epoch 171/300\n",
      "37/37 [==============================] - 0s 4ms/step - loss: 20937378.0000 - val_loss: 22189978.0000\n",
      "Epoch 172/300\n",
      "37/37 [==============================] - 0s 4ms/step - loss: 20906638.0000 - val_loss: 22200338.0000\n",
      "Epoch 173/300\n",
      "37/37 [==============================] - 0s 4ms/step - loss: 20885426.0000 - val_loss: 22146612.0000\n",
      "Epoch 174/300\n",
      "37/37 [==============================] - 0s 4ms/step - loss: 20857176.0000 - val_loss: 22125162.0000\n",
      "Epoch 175/300\n",
      "37/37 [==============================] - 0s 4ms/step - loss: 20806252.0000 - val_loss: 22080870.0000\n",
      "Epoch 176/300\n",
      "37/37 [==============================] - 0s 4ms/step - loss: 20783190.0000 - val_loss: 22059390.0000\n",
      "Epoch 177/300\n",
      "37/37 [==============================] - 0s 4ms/step - loss: 20787386.0000 - val_loss: 22044712.0000\n",
      "Epoch 178/300\n",
      "37/37 [==============================] - 0s 4ms/step - loss: 20763126.0000 - val_loss: 22051858.0000\n",
      "Epoch 179/300\n",
      "37/37 [==============================] - 0s 4ms/step - loss: 20715326.0000 - val_loss: 21982682.0000\n",
      "Epoch 180/300\n",
      "37/37 [==============================] - 0s 4ms/step - loss: 20673068.0000 - val_loss: 21965562.0000\n",
      "Epoch 181/300\n",
      "37/37 [==============================] - 0s 4ms/step - loss: 20659670.0000 - val_loss: 21970234.0000\n",
      "Epoch 182/300\n",
      "37/37 [==============================] - 0s 4ms/step - loss: 20694326.0000 - val_loss: 22016314.0000\n",
      "Epoch 183/300\n",
      "37/37 [==============================] - 0s 4ms/step - loss: 20618588.0000 - val_loss: 21894434.0000\n",
      "Epoch 184/300\n",
      "37/37 [==============================] - 0s 4ms/step - loss: 20584590.0000 - val_loss: 21913052.0000\n",
      "Epoch 185/300\n",
      "37/37 [==============================] - 0s 4ms/step - loss: 20549146.0000 - val_loss: 21846492.0000\n",
      "Epoch 186/300\n",
      "37/37 [==============================] - 0s 4ms/step - loss: 20551702.0000 - val_loss: 21824656.0000\n",
      "Epoch 187/300\n",
      "37/37 [==============================] - 0s 4ms/step - loss: 20494556.0000 - val_loss: 21793396.0000\n",
      "Epoch 188/300\n",
      "37/37 [==============================] - 0s 4ms/step - loss: 20482998.0000 - val_loss: 21774582.0000\n",
      "Epoch 189/300\n",
      "37/37 [==============================] - 0s 4ms/step - loss: 20479766.0000 - val_loss: 21809094.0000\n",
      "Epoch 190/300\n",
      "37/37 [==============================] - 0s 4ms/step - loss: 20406388.0000 - val_loss: 21735966.0000\n",
      "Epoch 191/300\n",
      "37/37 [==============================] - 0s 4ms/step - loss: 20411026.0000 - val_loss: 21700948.0000\n",
      "Epoch 192/300\n",
      "37/37 [==============================] - 0s 4ms/step - loss: 20374400.0000 - val_loss: 21692350.0000\n",
      "Epoch 193/300\n",
      "37/37 [==============================] - 0s 4ms/step - loss: 20338666.0000 - val_loss: 21686264.0000\n",
      "Epoch 194/300\n",
      "37/37 [==============================] - 0s 4ms/step - loss: 20327280.0000 - val_loss: 21641372.0000\n",
      "Epoch 195/300\n",
      "37/37 [==============================] - 0s 4ms/step - loss: 20307652.0000 - val_loss: 21629910.0000\n",
      "Epoch 196/300\n",
      "37/37 [==============================] - 0s 4ms/step - loss: 20306956.0000 - val_loss: 21611882.0000\n",
      "Epoch 197/300\n",
      "37/37 [==============================] - 0s 4ms/step - loss: 20286180.0000 - val_loss: 21589510.0000\n",
      "Epoch 198/300\n",
      "37/37 [==============================] - 0s 4ms/step - loss: 20234742.0000 - val_loss: 21566442.0000\n",
      "Epoch 199/300\n",
      "37/37 [==============================] - 0s 4ms/step - loss: 20201530.0000 - val_loss: 21597620.0000\n",
      "Epoch 200/300\n",
      "37/37 [==============================] - 0s 4ms/step - loss: 20193586.0000 - val_loss: 21534910.0000\n",
      "Epoch 201/300\n",
      "37/37 [==============================] - 0s 4ms/step - loss: 20164206.0000 - val_loss: 21559746.0000\n",
      "Epoch 202/300\n",
      "37/37 [==============================] - 0s 4ms/step - loss: 20123816.0000 - val_loss: 21482454.0000\n",
      "Epoch 203/300\n",
      "37/37 [==============================] - 0s 4ms/step - loss: 20106720.0000 - val_loss: 21458470.0000\n",
      "Epoch 204/300\n",
      "37/37 [==============================] - 0s 4ms/step - loss: 20080228.0000 - val_loss: 21438242.0000\n",
      "Epoch 205/300\n",
      "37/37 [==============================] - 0s 4ms/step - loss: 20044258.0000 - val_loss: 21424924.0000\n",
      "Epoch 206/300\n",
      "37/37 [==============================] - 0s 4ms/step - loss: 20026494.0000 - val_loss: 21454884.0000\n",
      "Epoch 207/300\n",
      "37/37 [==============================] - 0s 4ms/step - loss: 20026354.0000 - val_loss: 21390786.0000\n",
      "Epoch 208/300\n",
      "37/37 [==============================] - 0s 4ms/step - loss: 19991030.0000 - val_loss: 21366252.0000\n",
      "Epoch 209/300\n",
      "37/37 [==============================] - 0s 4ms/step - loss: 19946736.0000 - val_loss: 21337854.0000\n",
      "Epoch 210/300\n",
      "37/37 [==============================] - 0s 4ms/step - loss: 19924974.0000 - val_loss: 21308014.0000\n",
      "Epoch 211/300\n",
      "37/37 [==============================] - 0s 4ms/step - loss: 19907226.0000 - val_loss: 21292612.0000\n",
      "Epoch 212/300\n",
      "37/37 [==============================] - 0s 4ms/step - loss: 19875458.0000 - val_loss: 21262468.0000\n",
      "Epoch 213/300\n",
      "37/37 [==============================] - 0s 4ms/step - loss: 19860188.0000 - val_loss: 21300548.0000\n",
      "Epoch 214/300\n"
     ]
    },
    {
     "name": "stdout",
     "output_type": "stream",
     "text": [
      "37/37 [==============================] - 0s 4ms/step - loss: 19828842.0000 - val_loss: 21206294.0000\n",
      "Epoch 215/300\n",
      "37/37 [==============================] - 0s 4ms/step - loss: 19788470.0000 - val_loss: 21183238.0000\n",
      "Epoch 216/300\n",
      "37/37 [==============================] - 0s 4ms/step - loss: 19763282.0000 - val_loss: 21205304.0000\n",
      "Epoch 217/300\n",
      "37/37 [==============================] - 0s 4ms/step - loss: 19751700.0000 - val_loss: 21122352.0000\n",
      "Epoch 218/300\n",
      "37/37 [==============================] - 0s 4ms/step - loss: 19716152.0000 - val_loss: 21106694.0000\n",
      "Epoch 219/300\n",
      "37/37 [==============================] - 0s 4ms/step - loss: 19689060.0000 - val_loss: 21079984.0000\n",
      "Epoch 220/300\n",
      "37/37 [==============================] - 0s 4ms/step - loss: 19658400.0000 - val_loss: 21067036.0000\n",
      "Epoch 221/300\n",
      "37/37 [==============================] - 0s 4ms/step - loss: 19640466.0000 - val_loss: 21056596.0000\n",
      "Epoch 222/300\n",
      "37/37 [==============================] - 0s 4ms/step - loss: 19632420.0000 - val_loss: 21057026.0000\n",
      "Epoch 223/300\n",
      "37/37 [==============================] - 0s 4ms/step - loss: 19606554.0000 - val_loss: 21021388.0000\n",
      "Epoch 224/300\n",
      "37/37 [==============================] - 0s 4ms/step - loss: 19583752.0000 - val_loss: 21035752.0000\n",
      "Epoch 225/300\n",
      "37/37 [==============================] - 0s 4ms/step - loss: 19558664.0000 - val_loss: 20980436.0000\n",
      "Epoch 226/300\n",
      "37/37 [==============================] - 0s 4ms/step - loss: 19522880.0000 - val_loss: 20952064.0000\n",
      "Epoch 227/300\n",
      "37/37 [==============================] - 0s 4ms/step - loss: 19522998.0000 - val_loss: 20935994.0000\n",
      "Epoch 228/300\n",
      "37/37 [==============================] - 0s 4ms/step - loss: 19531028.0000 - val_loss: 20934760.0000\n",
      "Epoch 229/300\n",
      "37/37 [==============================] - 0s 4ms/step - loss: 19468984.0000 - val_loss: 20913348.0000\n",
      "Epoch 230/300\n",
      "37/37 [==============================] - 0s 4ms/step - loss: 19438222.0000 - val_loss: 20881786.0000\n",
      "Epoch 231/300\n",
      "37/37 [==============================] - 0s 4ms/step - loss: 19416638.0000 - val_loss: 20858568.0000\n",
      "Epoch 232/300\n",
      "37/37 [==============================] - 0s 4ms/step - loss: 19402488.0000 - val_loss: 20852492.0000\n",
      "Epoch 233/300\n",
      "37/37 [==============================] - 0s 4ms/step - loss: 19379508.0000 - val_loss: 20828360.0000\n",
      "Epoch 234/300\n",
      "37/37 [==============================] - 0s 4ms/step - loss: 19392366.0000 - val_loss: 20868306.0000\n",
      "Epoch 235/300\n",
      "37/37 [==============================] - 0s 4ms/step - loss: 19325674.0000 - val_loss: 20820802.0000\n",
      "Epoch 236/300\n",
      "37/37 [==============================] - 0s 4ms/step - loss: 19327332.0000 - val_loss: 20783538.0000\n",
      "Epoch 237/300\n",
      "37/37 [==============================] - 0s 4ms/step - loss: 19301078.0000 - val_loss: 20781204.0000\n",
      "Epoch 238/300\n",
      "37/37 [==============================] - 0s 4ms/step - loss: 19284532.0000 - val_loss: 20828058.0000\n",
      "Epoch 239/300\n",
      "37/37 [==============================] - 0s 4ms/step - loss: 19291858.0000 - val_loss: 20761768.0000\n",
      "Epoch 240/300\n",
      "37/37 [==============================] - 0s 4ms/step - loss: 19247866.0000 - val_loss: 20724978.0000\n",
      "Epoch 241/300\n",
      "37/37 [==============================] - 0s 4ms/step - loss: 19235748.0000 - val_loss: 20724552.0000\n",
      "Epoch 242/300\n",
      "37/37 [==============================] - 0s 4ms/step - loss: 19238352.0000 - val_loss: 20725748.0000\n",
      "Epoch 243/300\n",
      "37/37 [==============================] - 0s 4ms/step - loss: 19200464.0000 - val_loss: 20696520.0000\n",
      "Epoch 244/300\n",
      "37/37 [==============================] - 0s 4ms/step - loss: 19173334.0000 - val_loss: 20680274.0000\n",
      "Epoch 245/300\n",
      "37/37 [==============================] - 0s 4ms/step - loss: 19183728.0000 - val_loss: 20673102.0000\n",
      "Epoch 246/300\n",
      "37/37 [==============================] - 0s 4ms/step - loss: 19156654.0000 - val_loss: 20644344.0000\n",
      "Epoch 247/300\n",
      "37/37 [==============================] - 0s 4ms/step - loss: 19160852.0000 - val_loss: 20620920.0000\n",
      "Epoch 248/300\n",
      "37/37 [==============================] - 0s 4ms/step - loss: 19110418.0000 - val_loss: 20604336.0000\n",
      "Epoch 249/300\n",
      "37/37 [==============================] - 0s 4ms/step - loss: 19082894.0000 - val_loss: 20617480.0000\n",
      "Epoch 250/300\n",
      "37/37 [==============================] - 0s 4ms/step - loss: 19128226.0000 - val_loss: 20610170.0000\n",
      "Epoch 251/300\n",
      "37/37 [==============================] - 0s 4ms/step - loss: 19087254.0000 - val_loss: 20555284.0000\n",
      "Epoch 252/300\n",
      "37/37 [==============================] - 0s 4ms/step - loss: 19056846.0000 - val_loss: 20561164.0000\n",
      "Epoch 253/300\n",
      "37/37 [==============================] - 0s 4ms/step - loss: 19046118.0000 - val_loss: 20530332.0000\n",
      "Epoch 254/300\n",
      "37/37 [==============================] - 0s 4ms/step - loss: 18996358.0000 - val_loss: 20515802.0000\n",
      "Epoch 255/300\n",
      "37/37 [==============================] - 0s 4ms/step - loss: 18996722.0000 - val_loss: 20491886.0000\n",
      "Epoch 256/300\n",
      "37/37 [==============================] - 0s 4ms/step - loss: 18982286.0000 - val_loss: 20483002.0000\n",
      "Epoch 257/300\n",
      "37/37 [==============================] - 0s 4ms/step - loss: 18967556.0000 - val_loss: 20481758.0000\n",
      "Epoch 258/300\n",
      "37/37 [==============================] - 0s 4ms/step - loss: 18937872.0000 - val_loss: 20471018.0000\n",
      "Epoch 259/300\n",
      "37/37 [==============================] - 0s 4ms/step - loss: 18936026.0000 - val_loss: 20444308.0000\n",
      "Epoch 260/300\n",
      "37/37 [==============================] - 0s 4ms/step - loss: 18916614.0000 - val_loss: 20422648.0000\n",
      "Epoch 261/300\n",
      "37/37 [==============================] - 0s 4ms/step - loss: 18915806.0000 - val_loss: 20426396.0000\n",
      "Epoch 262/300\n",
      "37/37 [==============================] - 0s 4ms/step - loss: 18884096.0000 - val_loss: 20431394.0000\n",
      "Epoch 263/300\n",
      "37/37 [==============================] - 0s 4ms/step - loss: 18879470.0000 - val_loss: 20386180.0000\n",
      "Epoch 264/300\n",
      "37/37 [==============================] - 0s 4ms/step - loss: 18849244.0000 - val_loss: 20375616.0000\n",
      "Epoch 265/300\n",
      "37/37 [==============================] - 0s 4ms/step - loss: 18842594.0000 - val_loss: 20362968.0000\n",
      "Epoch 266/300\n",
      "37/37 [==============================] - 0s 4ms/step - loss: 18826462.0000 - val_loss: 20354216.0000\n",
      "Epoch 267/300\n",
      "37/37 [==============================] - 0s 4ms/step - loss: 18812526.0000 - val_loss: 20336854.0000\n",
      "Epoch 268/300\n",
      "37/37 [==============================] - 0s 4ms/step - loss: 18799506.0000 - val_loss: 20322078.0000\n",
      "Epoch 269/300\n",
      "37/37 [==============================] - 0s 4ms/step - loss: 18796726.0000 - val_loss: 20310858.0000\n",
      "Epoch 270/300\n",
      "37/37 [==============================] - 0s 4ms/step - loss: 18759774.0000 - val_loss: 20330072.0000\n",
      "Epoch 271/300\n",
      "37/37 [==============================] - 0s 4ms/step - loss: 18775802.0000 - val_loss: 20286002.0000\n",
      "Epoch 272/300\n",
      "37/37 [==============================] - 0s 4ms/step - loss: 18754928.0000 - val_loss: 20278742.0000\n",
      "Epoch 273/300\n",
      "37/37 [==============================] - 0s 4ms/step - loss: 18735118.0000 - val_loss: 20249444.0000\n",
      "Epoch 274/300\n",
      "37/37 [==============================] - 0s 4ms/step - loss: 18714032.0000 - val_loss: 20237032.0000\n",
      "Epoch 275/300\n",
      "37/37 [==============================] - 0s 4ms/step - loss: 18693476.0000 - val_loss: 20269408.0000\n",
      "Epoch 276/300\n",
      "37/37 [==============================] - 0s 4ms/step - loss: 18704084.0000 - val_loss: 20223048.0000\n",
      "Epoch 277/300\n",
      "37/37 [==============================] - 0s 4ms/step - loss: 18687122.0000 - val_loss: 20212324.0000\n",
      "Epoch 278/300\n",
      "37/37 [==============================] - 0s 4ms/step - loss: 18655876.0000 - val_loss: 20190396.0000\n",
      "Epoch 279/300\n",
      "37/37 [==============================] - 0s 4ms/step - loss: 18655964.0000 - val_loss: 20172638.0000\n",
      "Epoch 280/300\n",
      "37/37 [==============================] - 0s 4ms/step - loss: 18645322.0000 - val_loss: 20155928.0000\n",
      "Epoch 281/300\n",
      "37/37 [==============================] - 0s 4ms/step - loss: 18636608.0000 - val_loss: 20150760.0000\n",
      "Epoch 282/300\n",
      "37/37 [==============================] - 0s 4ms/step - loss: 18608676.0000 - val_loss: 20160538.0000\n",
      "Epoch 283/300\n",
      "37/37 [==============================] - 0s 4ms/step - loss: 18619118.0000 - val_loss: 20138602.0000\n",
      "Epoch 284/300\n",
      "37/37 [==============================] - 0s 4ms/step - loss: 18598284.0000 - val_loss: 20124102.0000\n",
      "Epoch 285/300\n"
     ]
    },
    {
     "name": "stdout",
     "output_type": "stream",
     "text": [
      "37/37 [==============================] - 0s 4ms/step - loss: 18610350.0000 - val_loss: 20111184.0000\n",
      "Epoch 286/300\n",
      "37/37 [==============================] - 0s 4ms/step - loss: 18568932.0000 - val_loss: 20164314.0000\n",
      "Epoch 287/300\n",
      "37/37 [==============================] - 0s 4ms/step - loss: 18592826.0000 - val_loss: 20093348.0000\n",
      "Epoch 288/300\n",
      "37/37 [==============================] - 0s 4ms/step - loss: 18559296.0000 - val_loss: 20089094.0000\n",
      "Epoch 289/300\n",
      "37/37 [==============================] - 0s 4ms/step - loss: 18563376.0000 - val_loss: 20064378.0000\n",
      "Epoch 290/300\n",
      "37/37 [==============================] - 0s 4ms/step - loss: 18545384.0000 - val_loss: 20105686.0000\n",
      "Epoch 291/300\n",
      "37/37 [==============================] - 0s 4ms/step - loss: 18536772.0000 - val_loss: 20044522.0000\n",
      "Epoch 292/300\n",
      "37/37 [==============================] - 0s 4ms/step - loss: 18548494.0000 - val_loss: 20035576.0000\n",
      "Epoch 293/300\n",
      "37/37 [==============================] - 0s 4ms/step - loss: 18519746.0000 - val_loss: 20010314.0000\n",
      "Epoch 294/300\n",
      "37/37 [==============================] - 0s 4ms/step - loss: 18505090.0000 - val_loss: 20020866.0000\n",
      "Epoch 295/300\n",
      "37/37 [==============================] - 0s 4ms/step - loss: 18488178.0000 - val_loss: 20009984.0000\n",
      "Epoch 296/300\n",
      "37/37 [==============================] - 0s 4ms/step - loss: 18477952.0000 - val_loss: 19992066.0000\n",
      "Epoch 297/300\n",
      "37/37 [==============================] - 0s 4ms/step - loss: 18470544.0000 - val_loss: 20012270.0000\n",
      "Epoch 298/300\n",
      "37/37 [==============================] - 0s 4ms/step - loss: 18461122.0000 - val_loss: 19962218.0000\n",
      "Epoch 299/300\n",
      "37/37 [==============================] - 0s 4ms/step - loss: 18446636.0000 - val_loss: 19963706.0000\n",
      "Epoch 300/300\n",
      "37/37 [==============================] - 0s 4ms/step - loss: 18445896.0000 - val_loss: 19948304.0000\n"
     ]
    },
    {
     "data": {
      "text/plain": [
       "<keras.callbacks.History at 0x1eb16e22c10>"
      ]
     },
     "execution_count": 43,
     "metadata": {},
     "output_type": "execute_result"
    }
   ],
   "source": [
    "model.fit(x=x_train, y=y_train, validation_data=(x_test,y_test),batch_size=250,epochs=300)"
   ]
  },
  {
   "cell_type": "code",
   "execution_count": 44,
   "id": "2d80012e",
   "metadata": {},
   "outputs": [],
   "source": [
    "loss_data=pd.DataFrame(model.history.history)"
   ]
  },
  {
   "cell_type": "code",
   "execution_count": 45,
   "id": "cb754e0e",
   "metadata": {},
   "outputs": [
    {
     "data": {
      "text/html": [
       "<div>\n",
       "<style scoped>\n",
       "    .dataframe tbody tr th:only-of-type {\n",
       "        vertical-align: middle;\n",
       "    }\n",
       "\n",
       "    .dataframe tbody tr th {\n",
       "        vertical-align: top;\n",
       "    }\n",
       "\n",
       "    .dataframe thead th {\n",
       "        text-align: right;\n",
       "    }\n",
       "</style>\n",
       "<table border=\"1\" class=\"dataframe\">\n",
       "  <thead>\n",
       "    <tr style=\"text-align: right;\">\n",
       "      <th></th>\n",
       "      <th>loss</th>\n",
       "      <th>val_loss</th>\n",
       "    </tr>\n",
       "  </thead>\n",
       "  <tbody>\n",
       "    <tr>\n",
       "      <th>0</th>\n",
       "      <td>672136576.0</td>\n",
       "      <td>688080320.0</td>\n",
       "    </tr>\n",
       "    <tr>\n",
       "      <th>1</th>\n",
       "      <td>672055424.0</td>\n",
       "      <td>687915520.0</td>\n",
       "    </tr>\n",
       "    <tr>\n",
       "      <th>2</th>\n",
       "      <td>671734656.0</td>\n",
       "      <td>687336704.0</td>\n",
       "    </tr>\n",
       "    <tr>\n",
       "      <th>3</th>\n",
       "      <td>670722880.0</td>\n",
       "      <td>685645824.0</td>\n",
       "    </tr>\n",
       "    <tr>\n",
       "      <th>4</th>\n",
       "      <td>668022016.0</td>\n",
       "      <td>681441280.0</td>\n",
       "    </tr>\n",
       "  </tbody>\n",
       "</table>\n",
       "</div>"
      ],
      "text/plain": [
       "          loss     val_loss\n",
       "0  672136576.0  688080320.0\n",
       "1  672055424.0  687915520.0\n",
       "2  671734656.0  687336704.0\n",
       "3  670722880.0  685645824.0\n",
       "4  668022016.0  681441280.0"
      ]
     },
     "execution_count": 45,
     "metadata": {},
     "output_type": "execute_result"
    }
   ],
   "source": [
    "loss_data.head()"
   ]
  },
  {
   "cell_type": "code",
   "execution_count": 46,
   "id": "a9263486",
   "metadata": {},
   "outputs": [
    {
     "data": {
      "text/plain": [
       "<AxesSubplot:>"
      ]
     },
     "execution_count": 46,
     "metadata": {},
     "output_type": "execute_result"
    },
    {
     "data": {
      "image/png": "[encoded data removed]",
      "text/plain": [
       "<Figure size 432x288 with 1 Axes>"
      ]
     },
     "metadata": {
      "needs_background": "light"
     },
     "output_type": "display_data"
    }
   ],
   "source": [
    "loss_data.plot()"
   ]
  },
  {
   "cell_type": "code",
   "execution_count": 47,
   "id": "6a75851c",
   "metadata": {},
   "outputs": [],
   "source": [
    "from sklearn.metrics import mean_squared_error, mean_absolute_error"
   ]
  },
  {
   "cell_type": "code",
   "execution_count": 48,
   "id": "789c16b0",
   "metadata": {},
   "outputs": [
    {
     "name": "stdout",
     "output_type": "stream",
     "text": [
      "122/122 [==============================] - 0s 2ms/step\n"
     ]
    }
   ],
   "source": [
    "predict = model.predict(x_test)"
   ]
  },
  {
   "cell_type": "code",
   "execution_count": 49,
   "id": "42e2ed5a",
   "metadata": {},
   "outputs": [
    {
     "data": {
      "text/plain": [
       "array([[22008.746],\n",
       "       [23018.957],\n",
       "       [25058.736],\n",
       "       ...,\n",
       "       [26379.543],\n",
       "       [13639.688],\n",
       "       [24774.777]], dtype=float32)"
      ]
     },
     "execution_count": 49,
     "metadata": {},
     "output_type": "execute_result"
    }
   ],
   "source": [
    "predict"
   ]
  },
  {
   "cell_type": "code",
   "execution_count": 50,
   "id": "ee25f6f8",
   "metadata": {},
   "outputs": [
    {
     "data": {
      "text/plain": [
       "3178.7566033241715"
      ]
     },
     "execution_count": 50,
     "metadata": {},
     "output_type": "execute_result"
    }
   ],
   "source": [
    "mean_absolute_error(y_test,predict)"
   ]
  },
  {
   "cell_type": "code",
   "execution_count": 51,
   "id": "54a6ed4e",
   "metadata": {},
   "outputs": [
    {
     "data": {
      "text/html": [
       "<div>\n",
       "<style scoped>\n",
       "    .dataframe tbody tr th:only-of-type {\n",
       "        vertical-align: middle;\n",
       "    }\n",
       "\n",
       "    .dataframe tbody tr th {\n",
       "        vertical-align: top;\n",
       "    }\n",
       "\n",
       "    .dataframe thead th {\n",
       "        text-align: right;\n",
       "    }\n",
       "</style>\n",
       "<table border=\"1\" class=\"dataframe\">\n",
       "  <thead>\n",
       "    <tr style=\"text-align: right;\">\n",
       "      <th></th>\n",
       "      <th>year</th>\n",
       "      <th>price</th>\n",
       "      <th>mileage</th>\n",
       "      <th>tax</th>\n",
       "      <th>mpg</th>\n",
       "      <th>engineSize</th>\n",
       "    </tr>\n",
       "  </thead>\n",
       "  <tbody>\n",
       "    <tr>\n",
       "      <th>count</th>\n",
       "      <td>12987.000000</td>\n",
       "      <td>12987.000000</td>\n",
       "      <td>12987.000000</td>\n",
       "      <td>12987.000000</td>\n",
       "      <td>12987.000000</td>\n",
       "      <td>12987.000000</td>\n",
       "    </tr>\n",
       "    <tr>\n",
       "      <th>mean</th>\n",
       "      <td>2017.285516</td>\n",
       "      <td>24074.855779</td>\n",
       "      <td>22133.367367</td>\n",
       "      <td>129.676215</td>\n",
       "      <td>55.438392</td>\n",
       "      <td>2.051059</td>\n",
       "    </tr>\n",
       "    <tr>\n",
       "      <th>std</th>\n",
       "      <td>2.189633</td>\n",
       "      <td>9866.601115</td>\n",
       "      <td>21197.472376</td>\n",
       "      <td>65.167429</td>\n",
       "      <td>15.025902</td>\n",
       "      <td>0.532313</td>\n",
       "    </tr>\n",
       "    <tr>\n",
       "      <th>min</th>\n",
       "      <td>1997.000000</td>\n",
       "      <td>650.000000</td>\n",
       "      <td>1.000000</td>\n",
       "      <td>0.000000</td>\n",
       "      <td>1.100000</td>\n",
       "      <td>0.000000</td>\n",
       "    </tr>\n",
       "    <tr>\n",
       "      <th>25%</th>\n",
       "      <td>2016.000000</td>\n",
       "      <td>17355.000000</td>\n",
       "      <td>6320.000000</td>\n",
       "      <td>125.000000</td>\n",
       "      <td>45.600000</td>\n",
       "      <td>1.700000</td>\n",
       "    </tr>\n",
       "    <tr>\n",
       "      <th>50%</th>\n",
       "      <td>2018.000000</td>\n",
       "      <td>22299.000000</td>\n",
       "      <td>15371.000000</td>\n",
       "      <td>145.000000</td>\n",
       "      <td>56.500000</td>\n",
       "      <td>2.000000</td>\n",
       "    </tr>\n",
       "    <tr>\n",
       "      <th>75%</th>\n",
       "      <td>2019.000000</td>\n",
       "      <td>28706.000000</td>\n",
       "      <td>31986.500000</td>\n",
       "      <td>145.000000</td>\n",
       "      <td>64.200000</td>\n",
       "      <td>2.100000</td>\n",
       "    </tr>\n",
       "    <tr>\n",
       "      <th>max</th>\n",
       "      <td>2020.000000</td>\n",
       "      <td>65990.000000</td>\n",
       "      <td>259000.000000</td>\n",
       "      <td>580.000000</td>\n",
       "      <td>217.300000</td>\n",
       "      <td>6.200000</td>\n",
       "    </tr>\n",
       "  </tbody>\n",
       "</table>\n",
       "</div>"
      ],
      "text/plain": [
       "               year         price        mileage           tax           mpg  \\\n",
       "count  12987.000000  12987.000000   12987.000000  12987.000000  12987.000000   \n",
       "mean    2017.285516  24074.855779   22133.367367    129.676215     55.438392   \n",
       "std        2.189633   9866.601115   21197.472376     65.167429     15.025902   \n",
       "min     1997.000000    650.000000       1.000000      0.000000      1.100000   \n",
       "25%     2016.000000  17355.000000    6320.000000    125.000000     45.600000   \n",
       "50%     2018.000000  22299.000000   15371.000000    145.000000     56.500000   \n",
       "75%     2019.000000  28706.000000   31986.500000    145.000000     64.200000   \n",
       "max     2020.000000  65990.000000  259000.000000    580.000000    217.300000   \n",
       "\n",
       "         engineSize  \n",
       "count  12987.000000  \n",
       "mean       2.051059  \n",
       "std        0.532313  \n",
       "min        0.000000  \n",
       "25%        1.700000  \n",
       "50%        2.000000  \n",
       "75%        2.100000  \n",
       "max        6.200000  "
      ]
     },
     "execution_count": 51,
     "metadata": {},
     "output_type": "execute_result"
    }
   ],
   "source": [
    "data.describe()\n"
   ]
  },
  {
   "cell_type": "code",
   "execution_count": 52,
   "id": "62a00060",
   "metadata": {},
   "outputs": [],
   "source": [
    "#price'ın ortalama değerine baktığımızda tahmin değerimizde %13'lük bir fark var. "
   ]
  },
  {
   "cell_type": "code",
   "execution_count": 53,
   "id": "903cf1a5",
   "metadata": {},
   "outputs": [
    {
     "data": {
      "text/plain": [
       "[<matplotlib.lines.Line2D at 0x1eb2ff6b5e0>]"
      ]
     },
     "execution_count": 53,
     "metadata": {},
     "output_type": "execute_result"
    },
    {
     "data": {
      "image/png": "[encoded data removed]",
      "text/plain": [
       "<Figure size 432x288 with 1 Axes>"
      ]
     },
     "metadata": {
      "needs_background": "light"
     },
     "output_type": "display_data"
    }
   ],
   "source": [
    "plt.scatter(y_test,predict)\n",
    "plt.plot(y_test,y_test,\"g-*\")"
   ]
  },
  {
   "cell_type": "code",
   "execution_count": 54,
   "id": "520b0efc",
   "metadata": {},
   "outputs": [
    {
     "data": {
      "text/plain": [
       "year           2020.0\n",
       "price         65980.0\n",
       "mileage        3999.0\n",
       "tax             145.0\n",
       "mpg              28.0\n",
       "engineSize        4.0\n",
       "Name: 3191, dtype: float64"
      ]
     },
     "execution_count": 54,
     "metadata": {},
     "output_type": "execute_result"
    }
   ],
   "source": [
    "data.iloc[2\n",
    "         ]"
   ]
  },
  {
   "cell_type": "code",
   "execution_count": 57,
   "id": "20526c4c",
   "metadata": {},
   "outputs": [],
   "source": [
    "yeniaraba=data.drop(\"price\",axis=1).iloc[2]"
   ]
  },
  {
   "cell_type": "code",
   "execution_count": 58,
   "id": "cfe55b15",
   "metadata": {},
   "outputs": [
    {
     "data": {
      "text/plain": [
       "year          2020.0\n",
       "mileage       3999.0\n",
       "tax            145.0\n",
       "mpg             28.0\n",
       "engineSize       4.0\n",
       "Name: 3191, dtype: float64"
      ]
     },
     "execution_count": 58,
     "metadata": {},
     "output_type": "execute_result"
    }
   ],
   "source": [
    "yeniaraba"
   ]
  },
  {
   "cell_type": "code",
   "execution_count": 59,
   "id": "15e1ca2a",
   "metadata": {},
   "outputs": [],
   "source": [
    "yeniaraba=sc.transform(yeniaraba.values.reshape(-1,5))"
   ]
  },
  {
   "cell_type": "code",
   "execution_count": 61,
   "id": "0778c7eb",
   "metadata": {},
   "outputs": [
    {
     "name": "stdout",
     "output_type": "stream",
     "text": [
      "1/1 [==============================] - 0s 20ms/step\n"
     ]
    },
    {
     "data": {
      "text/plain": [
       "array([[60655.46]], dtype=float32)"
      ]
     },
     "execution_count": 61,
     "metadata": {},
     "output_type": "execute_result"
    }
   ],
   "source": [
    "model.predict(yeniaraba)"
   ]
  },
  {
   "cell_type": "code",
   "execution_count": null,
   "id": "dc4cce3c",
   "metadata": {},
   "outputs": [],
   "source": []
  }
 ],
 "metadata": {
  "kernelspec": {
   "display_name": "Python 3 (ipykernel)",
   "language": "python",
   "name": "python3"
  },
  "language_info": {
   "codemirror_mode": {
    "name": "ipython",
    "version": 3
   },
   "file_extension": ".py",
   "mimetype": "text/x-python",
   "name": "python",
   "nbconvert_exporter": "python",
   "pygments_lexer": "ipython3",
   "version": "3.9.12"
  }
 },
 "nbformat": 4,
 "nbformat_minor": 5
}
